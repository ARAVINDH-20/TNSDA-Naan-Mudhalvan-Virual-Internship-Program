{
 "cells": [
  {
   "cell_type": "code",
   "execution_count": 1,
   "id": "545a2c8a",
   "metadata": {},
   "outputs": [],
   "source": [
    "#import libaries\n",
    "import pandas as pd\n",
    "import numpy as np\n",
    "import matplotlib.pyplot as plt\n",
    "import seaborn as sns\n",
    "\n",
    "#avoid warnings\n",
    "import warnings\n",
    "warnings.filterwarnings(\"ignore\")\n",
    "\n",
    "#import libiary\n",
    "from sklearn.preprocessing import StandardScaler\n",
    "from sklearn.model_selection import train_test_split\n",
    "from sklearn.metrics import accuracy_score,classification_report\n",
    "from sklearn import datasets\n",
    "\n",
    "#save model\n",
    "import joblib"
   ]
  },
  {
   "cell_type": "markdown",
   "id": "387d7f52",
   "metadata": {},
   "source": [
    "dataset link: https://www.kaggle.com/datasets/altruistdelhite04/loan-prediction-problem-dataset"
   ]
  },
  {
   "cell_type": "code",
   "execution_count": 2,
   "id": "826bbb94",
   "metadata": {},
   "outputs": [],
   "source": [
    "#import dataset\n",
    "\n",
    "dataset = pd.read_csv(r\"D:\\MACHINE LEARNING\\FINAL PROJECT\\Dataset\\finance\\loan.csv\")"
   ]
  },
  {
   "cell_type": "code",
   "execution_count": 3,
   "id": "8aa27caf",
   "metadata": {},
   "outputs": [
    {
     "data": {
      "text/html": [
       "<div>\n",
       "<style scoped>\n",
       "    .dataframe tbody tr th:only-of-type {\n",
       "        vertical-align: middle;\n",
       "    }\n",
       "\n",
       "    .dataframe tbody tr th {\n",
       "        vertical-align: top;\n",
       "    }\n",
       "\n",
       "    .dataframe thead th {\n",
       "        text-align: right;\n",
       "    }\n",
       "</style>\n",
       "<table border=\"1\" class=\"dataframe\">\n",
       "  <thead>\n",
       "    <tr style=\"text-align: right;\">\n",
       "      <th></th>\n",
       "      <th>Loan_ID</th>\n",
       "      <th>Gender</th>\n",
       "      <th>Married</th>\n",
       "      <th>Dependents</th>\n",
       "      <th>Education</th>\n",
       "      <th>Self_Employed</th>\n",
       "      <th>ApplicantIncome</th>\n",
       "      <th>CoapplicantIncome</th>\n",
       "      <th>LoanAmount</th>\n",
       "      <th>Loan_Amount_Term</th>\n",
       "      <th>Credit_History</th>\n",
       "      <th>Property_Area</th>\n",
       "      <th>Loan_Status</th>\n",
       "    </tr>\n",
       "  </thead>\n",
       "  <tbody>\n",
       "    <tr>\n",
       "      <th>0</th>\n",
       "      <td>LP001002</td>\n",
       "      <td>Male</td>\n",
       "      <td>No</td>\n",
       "      <td>0</td>\n",
       "      <td>Graduate</td>\n",
       "      <td>No</td>\n",
       "      <td>5849</td>\n",
       "      <td>0.0</td>\n",
       "      <td>NaN</td>\n",
       "      <td>360.0</td>\n",
       "      <td>1.0</td>\n",
       "      <td>Urban</td>\n",
       "      <td>Y</td>\n",
       "    </tr>\n",
       "    <tr>\n",
       "      <th>1</th>\n",
       "      <td>LP001003</td>\n",
       "      <td>Male</td>\n",
       "      <td>Yes</td>\n",
       "      <td>1</td>\n",
       "      <td>Graduate</td>\n",
       "      <td>No</td>\n",
       "      <td>4583</td>\n",
       "      <td>1508.0</td>\n",
       "      <td>128.0</td>\n",
       "      <td>360.0</td>\n",
       "      <td>1.0</td>\n",
       "      <td>Rural</td>\n",
       "      <td>N</td>\n",
       "    </tr>\n",
       "    <tr>\n",
       "      <th>2</th>\n",
       "      <td>LP001005</td>\n",
       "      <td>Male</td>\n",
       "      <td>Yes</td>\n",
       "      <td>0</td>\n",
       "      <td>Graduate</td>\n",
       "      <td>Yes</td>\n",
       "      <td>3000</td>\n",
       "      <td>0.0</td>\n",
       "      <td>66.0</td>\n",
       "      <td>360.0</td>\n",
       "      <td>1.0</td>\n",
       "      <td>Urban</td>\n",
       "      <td>Y</td>\n",
       "    </tr>\n",
       "    <tr>\n",
       "      <th>3</th>\n",
       "      <td>LP001006</td>\n",
       "      <td>Male</td>\n",
       "      <td>Yes</td>\n",
       "      <td>0</td>\n",
       "      <td>Not Graduate</td>\n",
       "      <td>No</td>\n",
       "      <td>2583</td>\n",
       "      <td>2358.0</td>\n",
       "      <td>120.0</td>\n",
       "      <td>360.0</td>\n",
       "      <td>1.0</td>\n",
       "      <td>Urban</td>\n",
       "      <td>Y</td>\n",
       "    </tr>\n",
       "    <tr>\n",
       "      <th>4</th>\n",
       "      <td>LP001008</td>\n",
       "      <td>Male</td>\n",
       "      <td>No</td>\n",
       "      <td>0</td>\n",
       "      <td>Graduate</td>\n",
       "      <td>No</td>\n",
       "      <td>6000</td>\n",
       "      <td>0.0</td>\n",
       "      <td>141.0</td>\n",
       "      <td>360.0</td>\n",
       "      <td>1.0</td>\n",
       "      <td>Urban</td>\n",
       "      <td>Y</td>\n",
       "    </tr>\n",
       "  </tbody>\n",
       "</table>\n",
       "</div>"
      ],
      "text/plain": [
       "    Loan_ID Gender Married Dependents     Education Self_Employed  \\\n",
       "0  LP001002   Male      No          0      Graduate            No   \n",
       "1  LP001003   Male     Yes          1      Graduate            No   \n",
       "2  LP001005   Male     Yes          0      Graduate           Yes   \n",
       "3  LP001006   Male     Yes          0  Not Graduate            No   \n",
       "4  LP001008   Male      No          0      Graduate            No   \n",
       "\n",
       "   ApplicantIncome  CoapplicantIncome  LoanAmount  Loan_Amount_Term  \\\n",
       "0             5849                0.0         NaN             360.0   \n",
       "1             4583             1508.0       128.0             360.0   \n",
       "2             3000                0.0        66.0             360.0   \n",
       "3             2583             2358.0       120.0             360.0   \n",
       "4             6000                0.0       141.0             360.0   \n",
       "\n",
       "   Credit_History Property_Area Loan_Status  \n",
       "0             1.0         Urban           Y  \n",
       "1             1.0         Rural           N  \n",
       "2             1.0         Urban           Y  \n",
       "3             1.0         Urban           Y  \n",
       "4             1.0         Urban           Y  "
      ]
     },
     "execution_count": 3,
     "metadata": {},
     "output_type": "execute_result"
    }
   ],
   "source": [
    "dataset.head()"
   ]
  },
  {
   "cell_type": "code",
   "execution_count": 4,
   "id": "88aefac7",
   "metadata": {},
   "outputs": [
    {
     "data": {
      "text/plain": [
       "(614, 13)"
      ]
     },
     "execution_count": 4,
     "metadata": {},
     "output_type": "execute_result"
    }
   ],
   "source": [
    "dataset.shape"
   ]
  },
  {
   "cell_type": "code",
   "execution_count": 5,
   "id": "02c62b21",
   "metadata": {},
   "outputs": [
    {
     "name": "stdout",
     "output_type": "stream",
     "text": [
      "<class 'pandas.core.frame.DataFrame'>\n",
      "RangeIndex: 614 entries, 0 to 613\n",
      "Data columns (total 13 columns):\n",
      " #   Column             Non-Null Count  Dtype  \n",
      "---  ------             --------------  -----  \n",
      " 0   Loan_ID            614 non-null    object \n",
      " 1   Gender             601 non-null    object \n",
      " 2   Married            611 non-null    object \n",
      " 3   Dependents         599 non-null    object \n",
      " 4   Education          614 non-null    object \n",
      " 5   Self_Employed      582 non-null    object \n",
      " 6   ApplicantIncome    614 non-null    int64  \n",
      " 7   CoapplicantIncome  614 non-null    float64\n",
      " 8   LoanAmount         592 non-null    float64\n",
      " 9   Loan_Amount_Term   600 non-null    float64\n",
      " 10  Credit_History     564 non-null    float64\n",
      " 11  Property_Area      614 non-null    object \n",
      " 12  Loan_Status        614 non-null    object \n",
      "dtypes: float64(4), int64(1), object(8)\n",
      "memory usage: 62.5+ KB\n"
     ]
    }
   ],
   "source": [
    "#information about dataset\n",
    "\n",
    "dataset.info()"
   ]
  },
  {
   "cell_type": "code",
   "execution_count": 6,
   "id": "9ce9258a",
   "metadata": {},
   "outputs": [
    {
     "data": {
      "text/plain": [
       "Loan_ID               0\n",
       "Gender               13\n",
       "Married               3\n",
       "Dependents           15\n",
       "Education             0\n",
       "Self_Employed        32\n",
       "ApplicantIncome       0\n",
       "CoapplicantIncome     0\n",
       "LoanAmount           22\n",
       "Loan_Amount_Term     14\n",
       "Credit_History       50\n",
       "Property_Area         0\n",
       "Loan_Status           0\n",
       "dtype: int64"
      ]
     },
     "execution_count": 6,
     "metadata": {},
     "output_type": "execute_result"
    }
   ],
   "source": [
    "dataset.isnull().sum()"
   ]
  },
  {
   "cell_type": "code",
   "execution_count": 7,
   "id": "2d91eba0",
   "metadata": {},
   "outputs": [],
   "source": [
    "dataset[\"Gender\"] = dataset[\"Gender\"].fillna(dataset['Gender'].mode()[0])\n",
    "dataset['Self_Employed'] =dataset['Self_Employed'].fillna(dataset['Self_Employed'].mode()[0])\n",
    "dataset['Loan_Amount_Term'] =dataset['Loan_Amount_Term'].fillna(dataset['Loan_Amount_Term'].mean())\n",
    "dataset['Credit_History'] =dataset['Credit_History'].fillna(dataset['Credit_History'].mode()[0])\n",
    "dataset['LoanAmount'] =dataset['LoanAmount'].fillna(dataset['LoanAmount'].mean())\n",
    "dataset['Dependents'] =dataset['Dependents'].fillna(dataset['LoanAmount'].mode()[0])\n",
    "dataset['Married'] =dataset['Married'].fillna(dataset['Married'].mode()[0])"
   ]
  },
  {
   "cell_type": "code",
   "execution_count": 8,
   "id": "0ce4ac1e",
   "metadata": {},
   "outputs": [
    {
     "data": {
      "text/plain": [
       "Loan_ID              0\n",
       "Gender               0\n",
       "Married              0\n",
       "Dependents           0\n",
       "Education            0\n",
       "Self_Employed        0\n",
       "ApplicantIncome      0\n",
       "CoapplicantIncome    0\n",
       "LoanAmount           0\n",
       "Loan_Amount_Term     0\n",
       "Credit_History       0\n",
       "Property_Area        0\n",
       "Loan_Status          0\n",
       "dtype: int64"
      ]
     },
     "execution_count": 8,
     "metadata": {},
     "output_type": "execute_result"
    }
   ],
   "source": [
    "dataset.isnull().sum()"
   ]
  },
  {
   "cell_type": "code",
   "execution_count": 26,
   "id": "b4ceb749",
   "metadata": {},
   "outputs": [
    {
     "data": {
      "text/plain": [
       "array([1., 0.])"
      ]
     },
     "execution_count": 26,
     "metadata": {},
     "output_type": "execute_result"
    }
   ],
   "source": [
    "dataset[\"Credit_History\"].unique()"
   ]
  },
  {
   "cell_type": "code",
   "execution_count": 10,
   "id": "fdb080ab",
   "metadata": {},
   "outputs": [],
   "source": [
    "dataset[\"Gender\"] = dataset[\"Gender\"].replace(to_replace={'Male':1,\"Female\":0}).astype(\"int\")\n",
    "dataset['Self_Employed'] =dataset['Self_Employed'].replace(to_replace={'Yes':1,\"No\":0}).astype(\"int\")\n",
    "dataset['Dependents'] =dataset['Dependents'].replace(to_replace={\"3+\":4}).astype(\"int\")\n",
    "dataset['Married'] =dataset['Married'].replace(to_replace={'Yes':1,\"No\":0}).astype(\"int\")\n",
    "dataset['Education'] =dataset['Education'].replace(to_replace={'Graduate':1,\"Not Graduate\":0}).astype(\"int\")\n",
    "dataset['Loan_Status'] =dataset['Loan_Status'].replace(to_replace={'Y':1,\"N\":0}).astype(\"int\")\n",
    "dataset['Property_Area'] =dataset['Property_Area'].replace(to_replace={'Urban':1,\"Semiurban\":0,\"Rural\":2}).astype(\"int\")"
   ]
  },
  {
   "cell_type": "code",
   "execution_count": 11,
   "id": "76a69b28",
   "metadata": {},
   "outputs": [],
   "source": [
    "dataset.drop(\"Loan_ID\",axis=1,inplace=True)"
   ]
  },
  {
   "cell_type": "code",
   "execution_count": 12,
   "id": "7621c3c4",
   "metadata": {},
   "outputs": [
    {
     "data": {
      "text/html": [
       "<div>\n",
       "<style scoped>\n",
       "    .dataframe tbody tr th:only-of-type {\n",
       "        vertical-align: middle;\n",
       "    }\n",
       "\n",
       "    .dataframe tbody tr th {\n",
       "        vertical-align: top;\n",
       "    }\n",
       "\n",
       "    .dataframe thead th {\n",
       "        text-align: right;\n",
       "    }\n",
       "</style>\n",
       "<table border=\"1\" class=\"dataframe\">\n",
       "  <thead>\n",
       "    <tr style=\"text-align: right;\">\n",
       "      <th></th>\n",
       "      <th>Gender</th>\n",
       "      <th>Married</th>\n",
       "      <th>Dependents</th>\n",
       "      <th>Education</th>\n",
       "      <th>Self_Employed</th>\n",
       "      <th>ApplicantIncome</th>\n",
       "      <th>CoapplicantIncome</th>\n",
       "      <th>LoanAmount</th>\n",
       "      <th>Loan_Amount_Term</th>\n",
       "      <th>Credit_History</th>\n",
       "      <th>Property_Area</th>\n",
       "      <th>Loan_Status</th>\n",
       "    </tr>\n",
       "  </thead>\n",
       "  <tbody>\n",
       "    <tr>\n",
       "      <th>0</th>\n",
       "      <td>1</td>\n",
       "      <td>0</td>\n",
       "      <td>0</td>\n",
       "      <td>1</td>\n",
       "      <td>0</td>\n",
       "      <td>5849</td>\n",
       "      <td>0.0</td>\n",
       "      <td>146.412162</td>\n",
       "      <td>360.0</td>\n",
       "      <td>1.0</td>\n",
       "      <td>1</td>\n",
       "      <td>1</td>\n",
       "    </tr>\n",
       "    <tr>\n",
       "      <th>1</th>\n",
       "      <td>1</td>\n",
       "      <td>1</td>\n",
       "      <td>1</td>\n",
       "      <td>1</td>\n",
       "      <td>0</td>\n",
       "      <td>4583</td>\n",
       "      <td>1508.0</td>\n",
       "      <td>128.000000</td>\n",
       "      <td>360.0</td>\n",
       "      <td>1.0</td>\n",
       "      <td>2</td>\n",
       "      <td>0</td>\n",
       "    </tr>\n",
       "    <tr>\n",
       "      <th>2</th>\n",
       "      <td>1</td>\n",
       "      <td>1</td>\n",
       "      <td>0</td>\n",
       "      <td>1</td>\n",
       "      <td>1</td>\n",
       "      <td>3000</td>\n",
       "      <td>0.0</td>\n",
       "      <td>66.000000</td>\n",
       "      <td>360.0</td>\n",
       "      <td>1.0</td>\n",
       "      <td>1</td>\n",
       "      <td>1</td>\n",
       "    </tr>\n",
       "    <tr>\n",
       "      <th>3</th>\n",
       "      <td>1</td>\n",
       "      <td>1</td>\n",
       "      <td>0</td>\n",
       "      <td>0</td>\n",
       "      <td>0</td>\n",
       "      <td>2583</td>\n",
       "      <td>2358.0</td>\n",
       "      <td>120.000000</td>\n",
       "      <td>360.0</td>\n",
       "      <td>1.0</td>\n",
       "      <td>1</td>\n",
       "      <td>1</td>\n",
       "    </tr>\n",
       "    <tr>\n",
       "      <th>4</th>\n",
       "      <td>1</td>\n",
       "      <td>0</td>\n",
       "      <td>0</td>\n",
       "      <td>1</td>\n",
       "      <td>0</td>\n",
       "      <td>6000</td>\n",
       "      <td>0.0</td>\n",
       "      <td>141.000000</td>\n",
       "      <td>360.0</td>\n",
       "      <td>1.0</td>\n",
       "      <td>1</td>\n",
       "      <td>1</td>\n",
       "    </tr>\n",
       "  </tbody>\n",
       "</table>\n",
       "</div>"
      ],
      "text/plain": [
       "   Gender  Married  Dependents  Education  Self_Employed  ApplicantIncome  \\\n",
       "0       1        0           0          1              0             5849   \n",
       "1       1        1           1          1              0             4583   \n",
       "2       1        1           0          1              1             3000   \n",
       "3       1        1           0          0              0             2583   \n",
       "4       1        0           0          1              0             6000   \n",
       "\n",
       "   CoapplicantIncome  LoanAmount  Loan_Amount_Term  Credit_History  \\\n",
       "0                0.0  146.412162             360.0             1.0   \n",
       "1             1508.0  128.000000             360.0             1.0   \n",
       "2                0.0   66.000000             360.0             1.0   \n",
       "3             2358.0  120.000000             360.0             1.0   \n",
       "4                0.0  141.000000             360.0             1.0   \n",
       "\n",
       "   Property_Area  Loan_Status  \n",
       "0              1            1  \n",
       "1              2            0  \n",
       "2              1            1  \n",
       "3              1            1  \n",
       "4              1            1  "
      ]
     },
     "execution_count": 12,
     "metadata": {},
     "output_type": "execute_result"
    }
   ],
   "source": [
    "dataset.head()"
   ]
  },
  {
   "cell_type": "code",
   "execution_count": 13,
   "id": "2ce0b8c4",
   "metadata": {},
   "outputs": [
    {
     "name": "stdout",
     "output_type": "stream",
     "text": [
      "Number of give Loan: 422\n",
      "Number of not give loan: 192\n"
     ]
    },
    {
     "data": {
      "image/png": "[encoded data removed]",
      "text/plain": [
       "<Figure size 640x480 with 1 Axes>"
      ]
     },
     "metadata": {},
     "output_type": "display_data"
    }
   ],
   "source": [
    "ax = sns.countplot(dataset[\"Loan_Status\"])\n",
    "L,NL = dataset[\"Loan_Status\"].value_counts()   \n",
    "print(\"Number of give Loan: {}\".format(L))\n",
    "print(\"Number of not give loan: {}\".format(NL))"
   ]
  },
  {
   "cell_type": "code",
   "execution_count": 14,
   "id": "40335d42",
   "metadata": {},
   "outputs": [],
   "source": [
    "x = dataset.drop('Loan_Status',axis=1)\n",
    "y = dataset['Loan_Status']\n"
   ]
  },
  {
   "cell_type": "code",
   "execution_count": 15,
   "id": "4916d015",
   "metadata": {},
   "outputs": [
    {
     "data": {
      "text/html": [
       "<div>\n",
       "<style scoped>\n",
       "    .dataframe tbody tr th:only-of-type {\n",
       "        vertical-align: middle;\n",
       "    }\n",
       "\n",
       "    .dataframe tbody tr th {\n",
       "        vertical-align: top;\n",
       "    }\n",
       "\n",
       "    .dataframe thead th {\n",
       "        text-align: right;\n",
       "    }\n",
       "</style>\n",
       "<table border=\"1\" class=\"dataframe\">\n",
       "  <thead>\n",
       "    <tr style=\"text-align: right;\">\n",
       "      <th></th>\n",
       "      <th>Gender</th>\n",
       "      <th>Married</th>\n",
       "      <th>Dependents</th>\n",
       "      <th>Education</th>\n",
       "      <th>Self_Employed</th>\n",
       "      <th>ApplicantIncome</th>\n",
       "      <th>CoapplicantIncome</th>\n",
       "      <th>LoanAmount</th>\n",
       "      <th>Loan_Amount_Term</th>\n",
       "      <th>Credit_History</th>\n",
       "      <th>Property_Area</th>\n",
       "    </tr>\n",
       "  </thead>\n",
       "  <tbody>\n",
       "    <tr>\n",
       "      <th>0</th>\n",
       "      <td>1</td>\n",
       "      <td>0</td>\n",
       "      <td>0</td>\n",
       "      <td>1</td>\n",
       "      <td>0</td>\n",
       "      <td>0.072991</td>\n",
       "      <td>-0.554487</td>\n",
       "      <td>0.000000</td>\n",
       "      <td>0.279851</td>\n",
       "      <td>1.0</td>\n",
       "      <td>1</td>\n",
       "    </tr>\n",
       "    <tr>\n",
       "      <th>1</th>\n",
       "      <td>1</td>\n",
       "      <td>1</td>\n",
       "      <td>1</td>\n",
       "      <td>1</td>\n",
       "      <td>0</td>\n",
       "      <td>-0.134412</td>\n",
       "      <td>-0.038732</td>\n",
       "      <td>-0.219273</td>\n",
       "      <td>0.279851</td>\n",
       "      <td>1.0</td>\n",
       "      <td>2</td>\n",
       "    </tr>\n",
       "    <tr>\n",
       "      <th>2</th>\n",
       "      <td>1</td>\n",
       "      <td>1</td>\n",
       "      <td>0</td>\n",
       "      <td>1</td>\n",
       "      <td>1</td>\n",
       "      <td>-0.393747</td>\n",
       "      <td>-0.554487</td>\n",
       "      <td>-0.957641</td>\n",
       "      <td>0.279851</td>\n",
       "      <td>1.0</td>\n",
       "      <td>1</td>\n",
       "    </tr>\n",
       "    <tr>\n",
       "      <th>3</th>\n",
       "      <td>1</td>\n",
       "      <td>1</td>\n",
       "      <td>0</td>\n",
       "      <td>0</td>\n",
       "      <td>0</td>\n",
       "      <td>-0.462062</td>\n",
       "      <td>0.251980</td>\n",
       "      <td>-0.314547</td>\n",
       "      <td>0.279851</td>\n",
       "      <td>1.0</td>\n",
       "      <td>1</td>\n",
       "    </tr>\n",
       "    <tr>\n",
       "      <th>4</th>\n",
       "      <td>1</td>\n",
       "      <td>0</td>\n",
       "      <td>0</td>\n",
       "      <td>1</td>\n",
       "      <td>0</td>\n",
       "      <td>0.097728</td>\n",
       "      <td>-0.554487</td>\n",
       "      <td>-0.064454</td>\n",
       "      <td>0.279851</td>\n",
       "      <td>1.0</td>\n",
       "      <td>1</td>\n",
       "    </tr>\n",
       "  </tbody>\n",
       "</table>\n",
       "</div>"
      ],
      "text/plain": [
       "   Gender  Married  Dependents  Education  Self_Employed  ApplicantIncome  \\\n",
       "0       1        0           0          1              0         0.072991   \n",
       "1       1        1           1          1              0        -0.134412   \n",
       "2       1        1           0          1              1        -0.393747   \n",
       "3       1        1           0          0              0        -0.462062   \n",
       "4       1        0           0          1              0         0.097728   \n",
       "\n",
       "   CoapplicantIncome  LoanAmount  Loan_Amount_Term  Credit_History  \\\n",
       "0          -0.554487    0.000000          0.279851             1.0   \n",
       "1          -0.038732   -0.219273          0.279851             1.0   \n",
       "2          -0.554487   -0.957641          0.279851             1.0   \n",
       "3           0.251980   -0.314547          0.279851             1.0   \n",
       "4          -0.554487   -0.064454          0.279851             1.0   \n",
       "\n",
       "   Property_Area  \n",
       "0              1  \n",
       "1              2  \n",
       "2              1  \n",
       "3              1  \n",
       "4              1  "
      ]
     },
     "execution_count": 15,
     "metadata": {},
     "output_type": "execute_result"
    }
   ],
   "source": [
    "#Feature Scaling\n",
    "\n",
    "cols = ['ApplicantIncome','CoapplicantIncome','LoanAmount','Loan_Amount_Term'] \n",
    "\n",
    "Scaler = StandardScaler()\n",
    "x[cols]=Scaler.fit_transform(x[cols])\n",
    "x.head()"
   ]
  },
  {
   "cell_type": "code",
   "execution_count": 16,
   "id": "dbeb6f60",
   "metadata": {},
   "outputs": [],
   "source": [
    "#split training and testing data\n",
    "x_train,x_test,y_train,y_test = train_test_split(x,y,test_size=.30,stratify=y,random_state=42)"
   ]
  },
  {
   "cell_type": "code",
   "execution_count": 17,
   "id": "ccb2fd52",
   "metadata": {},
   "outputs": [
    {
     "name": "stdout",
     "output_type": "stream",
     "text": [
      "Accuracy on Training data:  79.48717948717949\n",
      "Accuracy on Testing data:  84.86486486486487\n",
      "\n",
      "              precision    recall  f1-score   support\n",
      "\n",
      "           0       0.92      0.57      0.70        58\n",
      "           1       0.83      0.98      0.90       127\n",
      "\n",
      "    accuracy                           0.85       185\n",
      "   macro avg       0.87      0.77      0.80       185\n",
      "weighted avg       0.86      0.85      0.84       185\n",
      "\n"
     ]
    }
   ],
   "source": [
    "from sklearn.linear_model import LogisticRegression\n",
    "model1 = LogisticRegression()\n",
    "\n",
    "model1.fit(x_train,y_train)\n",
    "\n",
    "x_train_pred = model1.predict(x_train)\n",
    "training_data_Accuracy = accuracy_score(x_train_pred,y_train)\n",
    "print(\"Accuracy on Training data: \",training_data_Accuracy*100 )\n",
    "\n",
    "x_test_pred = model1.predict(x_test)\n",
    "testing_data_Accuracy = accuracy_score(x_test_pred,y_test)\n",
    "print(\"Accuracy on Testing data: \",testing_data_Accuracy*100 )\n",
    "print()\n",
    "print(classification_report(y_test,x_test_pred))"
   ]
  },
  {
   "cell_type": "code",
   "execution_count": 18,
   "id": "7d88a5fb",
   "metadata": {},
   "outputs": [
    {
     "name": "stdout",
     "output_type": "stream",
     "text": [
      "Accuracy on Training data:  79.25407925407926\n",
      "Accuracy on Testing data:  84.86486486486487\n",
      "\n",
      "              precision    recall  f1-score   support\n",
      "\n",
      "           0       0.94      0.55      0.70        58\n",
      "           1       0.83      0.98      0.90       127\n",
      "\n",
      "    accuracy                           0.85       185\n",
      "   macro avg       0.88      0.77      0.80       185\n",
      "weighted avg       0.86      0.85      0.84       185\n",
      "\n"
     ]
    }
   ],
   "source": [
    "from sklearn.svm import SVC\n",
    "\n",
    "model2=SVC(kernel=\"linear\")\n",
    "\n",
    "model2.fit(x_train,y_train)\n",
    "\n",
    "x_train_pred = model2.predict(x_train)\n",
    "training_data_Accuracy = accuracy_score(x_train_pred,y_train)\n",
    "print(\"Accuracy on Training data: \",training_data_Accuracy*100 )\n",
    "\n",
    "x_test_pred = model2.predict(x_test)\n",
    "testing_data_Accuracy = accuracy_score(x_test_pred,y_test)\n",
    "print(\"Accuracy on Testing data: \",testing_data_Accuracy*100 )\n",
    "print()\n",
    "print(classification_report(y_test,x_test_pred))"
   ]
  },
  {
   "cell_type": "code",
   "execution_count": 19,
   "id": "4cafb175",
   "metadata": {},
   "outputs": [
    {
     "name": "stdout",
     "output_type": "stream",
     "text": [
      "Accuracy on Training data:  82.98368298368298\n",
      "Accuracy on Testing data:  81.08108108108108\n",
      "\n",
      "              precision    recall  f1-score   support\n",
      "\n",
      "           0       0.79      0.53      0.64        58\n",
      "           1       0.82      0.94      0.87       127\n",
      "\n",
      "    accuracy                           0.81       185\n",
      "   macro avg       0.80      0.74      0.76       185\n",
      "weighted avg       0.81      0.81      0.80       185\n",
      "\n"
     ]
    }
   ],
   "source": [
    "from sklearn.ensemble import RandomForestClassifier\n",
    "model3=RandomForestClassifier(n_estimators=5,\n",
    " max_features='sqrt',\n",
    " max_depth=5)\n",
    "\n",
    "model3.fit(x_train,y_train)\n",
    "\n",
    "x_train_pred = model3.predict(x_train)\n",
    "training_data_Accuracy = accuracy_score(x_train_pred,y_train)\n",
    "print(\"Accuracy on Training data: \",training_data_Accuracy*100 )\n",
    "\n",
    "x_test_pred = model3.predict(x_test)\n",
    "testing_data_Accuracy = accuracy_score(x_test_pred,y_test)\n",
    "print(\"Accuracy on Testing data: \",testing_data_Accuracy*100 )\n",
    "print()\n",
    "print(classification_report(y_test,x_test_pred))"
   ]
  },
  {
   "cell_type": "code",
   "execution_count": 20,
   "id": "dcf24442",
   "metadata": {},
   "outputs": [
    {
     "name": "stdout",
     "output_type": "stream",
     "text": [
      "Accuracy on Training data:  77.15617715617715\n",
      "Accuracy on Testing data:  83.24324324324324\n",
      "\n",
      "              precision    recall  f1-score   support\n",
      "\n",
      "           0       0.81      0.60      0.69        58\n",
      "           1       0.84      0.94      0.88       127\n",
      "\n",
      "    accuracy                           0.83       185\n",
      "   macro avg       0.83      0.77      0.79       185\n",
      "weighted avg       0.83      0.83      0.82       185\n",
      "\n"
     ]
    }
   ],
   "source": [
    "from sklearn.naive_bayes import GaussianNB\n",
    "model4=GaussianNB()\n",
    "\n",
    "model4.fit(x_train,y_train)\n",
    "\n",
    "x_train_pred = model4.predict(x_train)\n",
    "training_data_Accuracy = accuracy_score(x_train_pred,y_train)\n",
    "print(\"Accuracy on Training data: \",training_data_Accuracy*100 )\n",
    "\n",
    "x_test_pred = model4.predict(x_test)\n",
    "testing_data_Accuracy = accuracy_score(x_test_pred,y_test)\n",
    "print(\"Accuracy on Testing data: \",testing_data_Accuracy*100 )\n",
    "print()\n",
    "print(classification_report(y_test,x_test_pred))"
   ]
  },
  {
   "cell_type": "markdown",
   "id": "5dd18590",
   "metadata": {},
   "source": [
    "compare other,Random Classifier  get good accuracy both test and train"
   ]
  },
  {
   "cell_type": "code",
   "execution_count": 21,
   "id": "6fb99a66",
   "metadata": {},
   "outputs": [
    {
     "name": "stdout",
     "output_type": "stream",
     "text": [
      "[1]\n",
      "Loan Approved\n"
     ]
    }
   ],
   "source": [
    "#predication\n",
    "\n",
    "\n",
    "#input_Data = [1,1,2,0,0,2889,0.0,45,180,0,1]   #0\n",
    "input_Data = [1,0,0,1,0,5849,0.0,146.412162,360.0,1.0,1]         #1\n",
    "input_data_to_array = np.asarray(input_Data)\n",
    "\n",
    "input_Data_reshaped = input_data_to_array.reshape(1,-1)\n",
    "\n",
    "#std  = Scaler.transform(input_Data_reshaped)\n",
    "\n",
    "predication = model3.predict(input_Data_reshaped)\n",
    "\n",
    "print(predication)\n",
    "\n",
    "if predication==1:\n",
    "    print(\"Loan Approved\")\n",
    "else:\n",
    "    print(\"Loan Not Approved\")"
   ]
  },
  {
   "cell_type": "code",
   "execution_count": 22,
   "id": "168f05af",
   "metadata": {},
   "outputs": [
    {
     "data": {
      "text/plain": [
       "['D:\\\\MACHINE LEARNING\\\\FINAL PROJECT\\\\Models\\\\finance\\\\Loan_model.pkl']"
      ]
     },
     "execution_count": 22,
     "metadata": {},
     "output_type": "execute_result"
    }
   ],
   "source": [
    "#save the model\n",
    "\n",
    "#location => D:\\MACHINE LEARNING\\FINAL PROJECT\\Models\\finance\n",
    "\n",
    "import joblib\n",
    "\n",
    "joblib.dump(model1,r\"D:\\MACHINE LEARNING\\FINAL PROJECT\\Models\\finance\\Loan_model.pkl\")"
   ]
  },
  {
   "cell_type": "code",
   "execution_count": 23,
   "id": "bfc3cebc",
   "metadata": {},
   "outputs": [
    {
     "name": "stdout",
     "output_type": "stream",
     "text": [
      "[1]\n",
      "Loan Approved\n"
     ]
    }
   ],
   "source": [
    "#load model\n",
    "\n",
    "load_model = joblib.load(r\"D:\\MACHINE LEARNING\\FINAL PROJECT\\Models\\finance\\Loan_model.pkl\")\n",
    "\n",
    "\n",
    "\n",
    "#predication\n",
    "#input_Data = [1,1,2,0,0,2889,0.0,45,180,0,1]   #0\n",
    "input_Data = [1,0,0,1,0,5849,0.0,146.412162,360.0,1.0,1]         #1\n",
    "input_data_to_array = np.asarray(input_Data)\n",
    "\n",
    "input_Data_reshaped = input_data_to_array.reshape(1,-1)\n",
    "\n",
    "#std  = Scaler.transform(input_Data_reshaped)\n",
    "\n",
    "predication = load_model.predict(input_Data_reshaped)\n",
    "\n",
    "print(predication)\n",
    "\n",
    "if predication==1:\n",
    "    print(\"Loan Approved\")\n",
    "else:\n",
    "    print(\"Loan Not Approved\")"
   ]
  },
  {
   "cell_type": "code",
   "execution_count": null,
   "id": "3a1bf1bc",
   "metadata": {},
   "outputs": [],
   "source": []
  },
  {
   "cell_type": "code",
   "execution_count": null,
   "id": "d52e4964",
   "metadata": {},
   "outputs": [],
   "source": []
  }
 ],
 "metadata": {
  "kernelspec": {
   "display_name": "Python 3 (ipykernel)",
   "language": "python",
   "name": "python3"
  },
  "language_info": {
   "codemirror_mode": {
    "name": "ipython",
    "version": 3
   },
   "file_extension": ".py",
   "mimetype": "text/x-python",
   "name": "python",
   "nbconvert_exporter": "python",
   "pygments_lexer": "ipython3",
   "version": "3.9.13"
  }
 },
 "nbformat": 4,
 "nbformat_minor": 5
}
