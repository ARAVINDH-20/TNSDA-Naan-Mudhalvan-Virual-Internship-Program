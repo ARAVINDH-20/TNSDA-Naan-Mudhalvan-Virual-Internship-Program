{
 "cells": [
  {
   "cell_type": "code",
   "execution_count": 19,
   "id": "6213482b",
   "metadata": {},
   "outputs": [],
   "source": [
    "#import libaries\n",
    "import pandas as pd\n",
    "import numpy as np\n",
    "import matplotlib.pyplot as plt\n",
    "import seaborn as sns\n",
    "\n",
    "#avoid warnings\n",
    "import warnings\n",
    "warnings.filterwarnings(\"ignore\")\n",
    "\n",
    "#import libiary\n",
    "from sklearn.preprocessing import StandardScaler\n",
    "from sklearn.model_selection import train_test_split\n",
    "from sklearn.metrics import accuracy_score,classification_report\n",
    "from sklearn import datasets\n",
    "\n",
    "#save model\n",
    "import joblib"
   ]
  },
  {
   "cell_type": "markdown",
   "id": "488de319",
   "metadata": {},
   "source": [
    "dataset link: https://www.kaggle.com/datasets/uciml/pima-indians-diabetes-database"
   ]
  },
  {
   "cell_type": "code",
   "execution_count": 20,
   "id": "ce7329c6",
   "metadata": {},
   "outputs": [],
   "source": [
    "#import dataset\n",
    "\n",
    "dataset = pd.read_csv(r\"D:\\MACHINE LEARNING\\FINAL PROJECT\\Dataset\\health\\diabetes.csv\")"
   ]
  },
  {
   "cell_type": "code",
   "execution_count": 21,
   "id": "66494c0f",
   "metadata": {},
   "outputs": [
    {
     "data": {
      "text/html": [
       "<div>\n",
       "<style scoped>\n",
       "    .dataframe tbody tr th:only-of-type {\n",
       "        vertical-align: middle;\n",
       "    }\n",
       "\n",
       "    .dataframe tbody tr th {\n",
       "        vertical-align: top;\n",
       "    }\n",
       "\n",
       "    .dataframe thead th {\n",
       "        text-align: right;\n",
       "    }\n",
       "</style>\n",
       "<table border=\"1\" class=\"dataframe\">\n",
       "  <thead>\n",
       "    <tr style=\"text-align: right;\">\n",
       "      <th></th>\n",
       "      <th>Pregnancies</th>\n",
       "      <th>Glucose</th>\n",
       "      <th>BloodPressure</th>\n",
       "      <th>SkinThickness</th>\n",
       "      <th>Insulin</th>\n",
       "      <th>BMI</th>\n",
       "      <th>DiabetesPedigreeFunction</th>\n",
       "      <th>Age</th>\n",
       "      <th>Outcome</th>\n",
       "    </tr>\n",
       "  </thead>\n",
       "  <tbody>\n",
       "    <tr>\n",
       "      <th>0</th>\n",
       "      <td>6</td>\n",
       "      <td>148</td>\n",
       "      <td>72</td>\n",
       "      <td>35</td>\n",
       "      <td>0</td>\n",
       "      <td>33.6</td>\n",
       "      <td>0.627</td>\n",
       "      <td>50</td>\n",
       "      <td>1</td>\n",
       "    </tr>\n",
       "    <tr>\n",
       "      <th>1</th>\n",
       "      <td>1</td>\n",
       "      <td>85</td>\n",
       "      <td>66</td>\n",
       "      <td>29</td>\n",
       "      <td>0</td>\n",
       "      <td>26.6</td>\n",
       "      <td>0.351</td>\n",
       "      <td>31</td>\n",
       "      <td>0</td>\n",
       "    </tr>\n",
       "    <tr>\n",
       "      <th>2</th>\n",
       "      <td>8</td>\n",
       "      <td>183</td>\n",
       "      <td>64</td>\n",
       "      <td>0</td>\n",
       "      <td>0</td>\n",
       "      <td>23.3</td>\n",
       "      <td>0.672</td>\n",
       "      <td>32</td>\n",
       "      <td>1</td>\n",
       "    </tr>\n",
       "    <tr>\n",
       "      <th>3</th>\n",
       "      <td>1</td>\n",
       "      <td>89</td>\n",
       "      <td>66</td>\n",
       "      <td>23</td>\n",
       "      <td>94</td>\n",
       "      <td>28.1</td>\n",
       "      <td>0.167</td>\n",
       "      <td>21</td>\n",
       "      <td>0</td>\n",
       "    </tr>\n",
       "    <tr>\n",
       "      <th>4</th>\n",
       "      <td>0</td>\n",
       "      <td>137</td>\n",
       "      <td>40</td>\n",
       "      <td>35</td>\n",
       "      <td>168</td>\n",
       "      <td>43.1</td>\n",
       "      <td>2.288</td>\n",
       "      <td>33</td>\n",
       "      <td>1</td>\n",
       "    </tr>\n",
       "  </tbody>\n",
       "</table>\n",
       "</div>"
      ],
      "text/plain": [
       "   Pregnancies  Glucose  BloodPressure  SkinThickness  Insulin   BMI  \\\n",
       "0            6      148             72             35        0  33.6   \n",
       "1            1       85             66             29        0  26.6   \n",
       "2            8      183             64              0        0  23.3   \n",
       "3            1       89             66             23       94  28.1   \n",
       "4            0      137             40             35      168  43.1   \n",
       "\n",
       "   DiabetesPedigreeFunction  Age  Outcome  \n",
       "0                     0.627   50        1  \n",
       "1                     0.351   31        0  \n",
       "2                     0.672   32        1  \n",
       "3                     0.167   21        0  \n",
       "4                     2.288   33        1  "
      ]
     },
     "execution_count": 21,
     "metadata": {},
     "output_type": "execute_result"
    }
   ],
   "source": [
    "#read dataset\n",
    "\n",
    "dataset.head()"
   ]
  },
  {
   "cell_type": "markdown",
   "id": "b8cdb1f5",
   "metadata": {},
   "source": [
    "# Understanding DataSet"
   ]
  },
  {
   "cell_type": "code",
   "execution_count": 66,
   "id": "128d2751",
   "metadata": {},
   "outputs": [
    {
     "data": {
      "text/plain": [
       "(768, 9)"
      ]
     },
     "execution_count": 66,
     "metadata": {},
     "output_type": "execute_result"
    }
   ],
   "source": [
    "#shape of dataset\n",
    "\n",
    "dataset.shape"
   ]
  },
  {
   "cell_type": "code",
   "execution_count": 67,
   "id": "68c0162d",
   "metadata": {},
   "outputs": [
    {
     "name": "stdout",
     "output_type": "stream",
     "text": [
      "<class 'pandas.core.frame.DataFrame'>\n",
      "RangeIndex: 768 entries, 0 to 767\n",
      "Data columns (total 9 columns):\n",
      " #   Column                    Non-Null Count  Dtype  \n",
      "---  ------                    --------------  -----  \n",
      " 0   Pregnancies               768 non-null    int64  \n",
      " 1   Glucose                   768 non-null    int64  \n",
      " 2   BloodPressure             768 non-null    int64  \n",
      " 3   SkinThickness             768 non-null    int64  \n",
      " 4   Insulin                   768 non-null    int64  \n",
      " 5   BMI                       768 non-null    float64\n",
      " 6   DiabetesPedigreeFunction  768 non-null    float64\n",
      " 7   Age                       768 non-null    int64  \n",
      " 8   Outcome                   768 non-null    int64  \n",
      "dtypes: float64(2), int64(7)\n",
      "memory usage: 54.1 KB\n"
     ]
    }
   ],
   "source": [
    "#information about dataset\n",
    "\n",
    "dataset.info()"
   ]
  },
  {
   "cell_type": "code",
   "execution_count": 68,
   "id": "908ad621",
   "metadata": {},
   "outputs": [
    {
     "data": {
      "text/html": [
       "<div>\n",
       "<style scoped>\n",
       "    .dataframe tbody tr th:only-of-type {\n",
       "        vertical-align: middle;\n",
       "    }\n",
       "\n",
       "    .dataframe tbody tr th {\n",
       "        vertical-align: top;\n",
       "    }\n",
       "\n",
       "    .dataframe thead th {\n",
       "        text-align: right;\n",
       "    }\n",
       "</style>\n",
       "<table border=\"1\" class=\"dataframe\">\n",
       "  <thead>\n",
       "    <tr style=\"text-align: right;\">\n",
       "      <th></th>\n",
       "      <th>Pregnancies</th>\n",
       "      <th>Glucose</th>\n",
       "      <th>BloodPressure</th>\n",
       "      <th>SkinThickness</th>\n",
       "      <th>Insulin</th>\n",
       "      <th>BMI</th>\n",
       "      <th>DiabetesPedigreeFunction</th>\n",
       "      <th>Age</th>\n",
       "      <th>Outcome</th>\n",
       "    </tr>\n",
       "  </thead>\n",
       "  <tbody>\n",
       "    <tr>\n",
       "      <th>count</th>\n",
       "      <td>768.000000</td>\n",
       "      <td>768.000000</td>\n",
       "      <td>768.000000</td>\n",
       "      <td>768.000000</td>\n",
       "      <td>768.000000</td>\n",
       "      <td>768.000000</td>\n",
       "      <td>768.000000</td>\n",
       "      <td>768.000000</td>\n",
       "      <td>768.000000</td>\n",
       "    </tr>\n",
       "    <tr>\n",
       "      <th>mean</th>\n",
       "      <td>3.845052</td>\n",
       "      <td>120.894531</td>\n",
       "      <td>69.105469</td>\n",
       "      <td>20.536458</td>\n",
       "      <td>79.799479</td>\n",
       "      <td>31.992578</td>\n",
       "      <td>0.471876</td>\n",
       "      <td>33.240885</td>\n",
       "      <td>0.348958</td>\n",
       "    </tr>\n",
       "    <tr>\n",
       "      <th>std</th>\n",
       "      <td>3.369578</td>\n",
       "      <td>31.972618</td>\n",
       "      <td>19.355807</td>\n",
       "      <td>15.952218</td>\n",
       "      <td>115.244002</td>\n",
       "      <td>7.884160</td>\n",
       "      <td>0.331329</td>\n",
       "      <td>11.760232</td>\n",
       "      <td>0.476951</td>\n",
       "    </tr>\n",
       "    <tr>\n",
       "      <th>min</th>\n",
       "      <td>0.000000</td>\n",
       "      <td>0.000000</td>\n",
       "      <td>0.000000</td>\n",
       "      <td>0.000000</td>\n",
       "      <td>0.000000</td>\n",
       "      <td>0.000000</td>\n",
       "      <td>0.078000</td>\n",
       "      <td>21.000000</td>\n",
       "      <td>0.000000</td>\n",
       "    </tr>\n",
       "    <tr>\n",
       "      <th>25%</th>\n",
       "      <td>1.000000</td>\n",
       "      <td>99.000000</td>\n",
       "      <td>62.000000</td>\n",
       "      <td>0.000000</td>\n",
       "      <td>0.000000</td>\n",
       "      <td>27.300000</td>\n",
       "      <td>0.243750</td>\n",
       "      <td>24.000000</td>\n",
       "      <td>0.000000</td>\n",
       "    </tr>\n",
       "    <tr>\n",
       "      <th>50%</th>\n",
       "      <td>3.000000</td>\n",
       "      <td>117.000000</td>\n",
       "      <td>72.000000</td>\n",
       "      <td>23.000000</td>\n",
       "      <td>30.500000</td>\n",
       "      <td>32.000000</td>\n",
       "      <td>0.372500</td>\n",
       "      <td>29.000000</td>\n",
       "      <td>0.000000</td>\n",
       "    </tr>\n",
       "    <tr>\n",
       "      <th>75%</th>\n",
       "      <td>6.000000</td>\n",
       "      <td>140.250000</td>\n",
       "      <td>80.000000</td>\n",
       "      <td>32.000000</td>\n",
       "      <td>127.250000</td>\n",
       "      <td>36.600000</td>\n",
       "      <td>0.626250</td>\n",
       "      <td>41.000000</td>\n",
       "      <td>1.000000</td>\n",
       "    </tr>\n",
       "    <tr>\n",
       "      <th>max</th>\n",
       "      <td>17.000000</td>\n",
       "      <td>199.000000</td>\n",
       "      <td>122.000000</td>\n",
       "      <td>99.000000</td>\n",
       "      <td>846.000000</td>\n",
       "      <td>67.100000</td>\n",
       "      <td>2.420000</td>\n",
       "      <td>81.000000</td>\n",
       "      <td>1.000000</td>\n",
       "    </tr>\n",
       "  </tbody>\n",
       "</table>\n",
       "</div>"
      ],
      "text/plain": [
       "       Pregnancies     Glucose  BloodPressure  SkinThickness     Insulin  \\\n",
       "count   768.000000  768.000000     768.000000     768.000000  768.000000   \n",
       "mean      3.845052  120.894531      69.105469      20.536458   79.799479   \n",
       "std       3.369578   31.972618      19.355807      15.952218  115.244002   \n",
       "min       0.000000    0.000000       0.000000       0.000000    0.000000   \n",
       "25%       1.000000   99.000000      62.000000       0.000000    0.000000   \n",
       "50%       3.000000  117.000000      72.000000      23.000000   30.500000   \n",
       "75%       6.000000  140.250000      80.000000      32.000000  127.250000   \n",
       "max      17.000000  199.000000     122.000000      99.000000  846.000000   \n",
       "\n",
       "              BMI  DiabetesPedigreeFunction         Age     Outcome  \n",
       "count  768.000000                768.000000  768.000000  768.000000  \n",
       "mean    31.992578                  0.471876   33.240885    0.348958  \n",
       "std      7.884160                  0.331329   11.760232    0.476951  \n",
       "min      0.000000                  0.078000   21.000000    0.000000  \n",
       "25%     27.300000                  0.243750   24.000000    0.000000  \n",
       "50%     32.000000                  0.372500   29.000000    0.000000  \n",
       "75%     36.600000                  0.626250   41.000000    1.000000  \n",
       "max     67.100000                  2.420000   81.000000    1.000000  "
      ]
     },
     "execution_count": 68,
     "metadata": {},
     "output_type": "execute_result"
    }
   ],
   "source": [
    "#describe about dataset\n",
    "\n",
    "dataset.describe()"
   ]
  },
  {
   "cell_type": "code",
   "execution_count": 83,
   "id": "07e6b657",
   "metadata": {},
   "outputs": [
    {
     "data": {
      "text/plain": [
       "0    500\n",
       "1    268\n",
       "Name: Outcome, dtype: int64"
      ]
     },
     "execution_count": 83,
     "metadata": {},
     "output_type": "execute_result"
    }
   ],
   "source": [
    "dataset.Outcome.value_counts()"
   ]
  },
  {
   "cell_type": "code",
   "execution_count": 69,
   "id": "00b7127b",
   "metadata": {},
   "outputs": [
    {
     "data": {
      "image/png": "[encoded data removed]",
      "text/plain": [
       "<Figure size 1000x500 with 2 Axes>"
      ]
     },
     "metadata": {},
     "output_type": "display_data"
    }
   ],
   "source": [
    "#understanding data\n",
    "\n",
    "corr= dataset.corr()\n",
    "\n",
    "plt.subplots(figsize=(10,5))\n",
    "sns.heatmap(corr,cbar=True,linewidth=.2,annot=True,fmt=\".1f\",cmap=\"Reds\")\n",
    "plt.title(\"Heat Map for the data\")\n",
    "plt.show()"
   ]
  },
  {
   "cell_type": "code",
   "execution_count": 70,
   "id": "5fc3e017",
   "metadata": {},
   "outputs": [
    {
     "data": {
      "image/png": "[encoded data removed]",
      "text/plain": [
       "<Figure size 640x480 with 1 Axes>"
      ]
     },
     "metadata": {},
     "output_type": "display_data"
    }
   ],
   "source": [
    "#bar plot for target class\n",
    "\n",
    "plt.bar(dataset[\"Outcome\"].unique(),dataset[\"Outcome\"].value_counts(),color=[\"red\",\"green\"])\n",
    "plt.xlabel(\"Outcome Class\")\n",
    "plt.xticks([0,1])\n",
    "plt.ylabel(\"Count\")\n",
    "plt.title(\"Count of Each Outcome Class\")\n",
    "plt.show()"
   ]
  },
  {
   "cell_type": "code",
   "execution_count": null,
   "id": "f3468a67",
   "metadata": {},
   "outputs": [],
   "source": []
  },
  {
   "cell_type": "code",
   "execution_count": null,
   "id": "58f7d366",
   "metadata": {},
   "outputs": [],
   "source": []
  },
  {
   "cell_type": "markdown",
   "id": "1bc03fff",
   "metadata": {},
   "source": [
    "# Data Processing"
   ]
  },
  {
   "cell_type": "code",
   "execution_count": 6,
   "id": "b6bebf6f",
   "metadata": {},
   "outputs": [],
   "source": [
    "x=dataset.drop(columns=[\"Outcome\",\"SkinThickness\"],axis=1)\n",
    "y=dataset.Outcome"
   ]
  },
  {
   "cell_type": "code",
   "execution_count": 7,
   "id": "327f3b2c",
   "metadata": {},
   "outputs": [],
   "source": [
    "#StandardScaler\n",
    "Scaler=StandardScaler()\n",
    "Scaler.fit(x)\n",
    "X=Scaler.transform(x)"
   ]
  },
  {
   "cell_type": "code",
   "execution_count": 8,
   "id": "ccbd6d1d",
   "metadata": {},
   "outputs": [],
   "source": [
    "#split training and testing data\n",
    "x_train,x_test,y_train,y_test = train_test_split(X,y,test_size=.30,stratify=y,random_state=2)"
   ]
  },
  {
   "cell_type": "markdown",
   "id": "2e39e532",
   "metadata": {},
   "source": [
    "# Machine Learning Model Selection"
   ]
  },
  {
   "cell_type": "markdown",
   "id": "da72a915",
   "metadata": {},
   "source": [
    "LogisticRegression"
   ]
  },
  {
   "cell_type": "code",
   "execution_count": 9,
   "id": "bc3597eb",
   "metadata": {},
   "outputs": [
    {
     "name": "stdout",
     "output_type": "stream",
     "text": [
      "Accuracy on Training data:  78.58472998137802\n",
      "Accuracy on Testing data:  77.92207792207793\n",
      "\n",
      "              precision    recall  f1-score   support\n",
      "\n",
      "           0       0.77      0.93      0.85       150\n",
      "           1       0.80      0.49      0.61        81\n",
      "\n",
      "    accuracy                           0.78       231\n",
      "   macro avg       0.79      0.71      0.73       231\n",
      "weighted avg       0.78      0.78      0.76       231\n",
      "\n"
     ]
    }
   ],
   "source": [
    "from sklearn.linear_model import LogisticRegression\n",
    "model1 = LogisticRegression()\n",
    "\n",
    "model1.fit(x_train,y_train)\n",
    "\n",
    "x_train_pred = model1.predict(x_train)\n",
    "training_data_Accuracy = accuracy_score(x_train_pred,y_train)\n",
    "print(\"Accuracy on Training data: \",training_data_Accuracy*100 )\n",
    "\n",
    "x_test_pred = model1.predict(x_test)\n",
    "testing_data_Accuracy = accuracy_score(x_test_pred,y_test)\n",
    "print(\"Accuracy on Testing data: \",testing_data_Accuracy*100 )\n",
    "print()\n",
    "print(classification_report(y_test,x_test_pred))"
   ]
  },
  {
   "cell_type": "raw",
   "id": "8e74aaa7",
   "metadata": {},
   "source": [
    "super vector machine"
   ]
  },
  {
   "cell_type": "code",
   "execution_count": 10,
   "id": "ed8e326c",
   "metadata": {},
   "outputs": [
    {
     "name": "stdout",
     "output_type": "stream",
     "text": [
      "Accuracy on Training data:  77.83985102420856\n",
      "Accuracy on Testing data:  78.78787878787878\n",
      "\n",
      "              precision    recall  f1-score   support\n",
      "\n",
      "           0       0.78      0.94      0.85       150\n",
      "           1       0.82      0.51      0.63        81\n",
      "\n",
      "    accuracy                           0.79       231\n",
      "   macro avg       0.80      0.72      0.74       231\n",
      "weighted avg       0.79      0.79      0.77       231\n",
      "\n"
     ]
    }
   ],
   "source": [
    "from sklearn.svm import SVC\n",
    "\n",
    "model2=SVC(kernel=\"linear\")\n",
    "\n",
    "model2.fit(x_train,y_train)\n",
    "\n",
    "x_train_pred = model2.predict(x_train)\n",
    "training_data_Accuracy = accuracy_score(x_train_pred,y_train)\n",
    "print(\"Accuracy on Training data: \",training_data_Accuracy*100 )\n",
    "\n",
    "x_test_pred = model2.predict(x_test)\n",
    "testing_data_Accuracy = accuracy_score(x_test_pred,y_test)\n",
    "print(\"Accuracy on Testing data: \",testing_data_Accuracy*100 )\n",
    "print()\n",
    "print(classification_report(y_test,x_test_pred))"
   ]
  },
  {
   "cell_type": "raw",
   "id": "1c3399b5",
   "metadata": {},
   "source": [
    "RandomForestClassifier"
   ]
  },
  {
   "cell_type": "code",
   "execution_count": 11,
   "id": "ed383ec0",
   "metadata": {},
   "outputs": [
    {
     "name": "stdout",
     "output_type": "stream",
     "text": [
      "Accuracy on Training data:  100.0\n",
      "Accuracy on Testing data:  75.75757575757575\n",
      "\n",
      "              precision    recall  f1-score   support\n",
      "\n",
      "           0       0.78      0.87      0.82       150\n",
      "           1       0.70      0.54      0.61        81\n",
      "\n",
      "    accuracy                           0.76       231\n",
      "   macro avg       0.74      0.71      0.72       231\n",
      "weighted avg       0.75      0.76      0.75       231\n",
      "\n"
     ]
    }
   ],
   "source": [
    "from sklearn.ensemble import RandomForestClassifier\n",
    "model3=RandomForestClassifier()\n",
    "\n",
    "model3.fit(x_train,y_train)\n",
    "\n",
    "x_train_pred = model3.predict(x_train)\n",
    "training_data_Accuracy = accuracy_score(x_train_pred,y_train)\n",
    "print(\"Accuracy on Training data: \",training_data_Accuracy*100 )\n",
    "\n",
    "x_test_pred = model3.predict(x_test)\n",
    "testing_data_Accuracy = accuracy_score(x_test_pred,y_test)\n",
    "print(\"Accuracy on Testing data: \",testing_data_Accuracy*100 )\n",
    "print()\n",
    "print(classification_report(y_test,x_test_pred))"
   ]
  },
  {
   "cell_type": "markdown",
   "id": "f76a3898",
   "metadata": {},
   "source": [
    "GaussianNB naive bayes"
   ]
  },
  {
   "cell_type": "code",
   "execution_count": 12,
   "id": "477c3599",
   "metadata": {},
   "outputs": [
    {
     "name": "stdout",
     "output_type": "stream",
     "text": [
      "Accuracy on Training data:  76.16387337057728\n",
      "Accuracy on Testing data:  78.35497835497836\n",
      "\n",
      "              precision    recall  f1-score   support\n",
      "\n",
      "           0       0.80      0.89      0.84       150\n",
      "           1       0.75      0.58      0.65        81\n",
      "\n",
      "    accuracy                           0.78       231\n",
      "   macro avg       0.77      0.74      0.75       231\n",
      "weighted avg       0.78      0.78      0.78       231\n",
      "\n"
     ]
    }
   ],
   "source": [
    "from sklearn.naive_bayes import GaussianNB\n",
    "model4=GaussianNB()\n",
    "\n",
    "model4.fit(x_train,y_train)\n",
    "\n",
    "x_train_pred = model4.predict(x_train)\n",
    "training_data_Accuracy = accuracy_score(x_train_pred,y_train)\n",
    "print(\"Accuracy on Training data: \",training_data_Accuracy*100 )\n",
    "\n",
    "x_test_pred = model4.predict(x_test)\n",
    "testing_data_Accuracy = accuracy_score(x_test_pred,y_test)\n",
    "print(\"Accuracy on Testing data: \",testing_data_Accuracy*100 )\n",
    "print()\n",
    "print(classification_report(y_test,x_test_pred))"
   ]
  },
  {
   "cell_type": "markdown",
   "id": "697f5a44",
   "metadata": {},
   "source": [
    "compare other,LogisticRegression get good accuracy both test and train"
   ]
  },
  {
   "cell_type": "code",
   "execution_count": 14,
   "id": "91070d03",
   "metadata": {},
   "outputs": [
    {
     "name": "stdout",
     "output_type": "stream",
     "text": [
      "[0]\n",
      "The person does not have a diabetes\n"
     ]
    }
   ],
   "source": [
    "#predication\n",
    "\n",
    "\n",
    "#input_Data = [6,148,72,0,33.6,0.627,50]  \n",
    "input_Data = [1,89,66,94,28.1,0.167,21]\n",
    "input_data_to_array = np.asarray(input_Data)\n",
    "\n",
    "input_Data_reshaped = input_data_to_array.reshape(1,-1)\n",
    "\n",
    "std  = Scaler.transform(input_Data_reshaped)\n",
    "\n",
    "predication = model1.predict(std)\n",
    "\n",
    "print(predication)\n",
    "\n",
    "if predication[0] == 0:\n",
    "    print(\"The person does not have a diabetes\")\n",
    "    \n",
    "else:\n",
    "    print(\"The person hes diabetes \")"
   ]
  },
  {
   "cell_type": "code",
   "execution_count": 15,
   "id": "4a1b004c",
   "metadata": {},
   "outputs": [
    {
     "data": {
      "text/plain": [
       "['D:\\\\MACHINE LEARNING\\\\FINAL PROJECT\\\\Models\\\\health\\\\Diabetes_model.pkl']"
      ]
     },
     "execution_count": 15,
     "metadata": {},
     "output_type": "execute_result"
    }
   ],
   "source": [
    "#save the model\n",
    "\n",
    "#location => D:\\MACHINE LEARNING\\FINAL PROJECT\\Models\\health\\\n",
    "\n",
    "import joblib\n",
    "\n",
    "joblib.dump(model1,r\"D:\\MACHINE LEARNING\\FINAL PROJECT\\Models\\health\\Diabetes_model.pkl\")"
   ]
  },
  {
   "cell_type": "code",
   "execution_count": 18,
   "id": "c6a376d7",
   "metadata": {},
   "outputs": [
    {
     "name": "stdout",
     "output_type": "stream",
     "text": [
      "[0]\n",
      "The person does not have a diabetes\n"
     ]
    }
   ],
   "source": [
    "#load model\n",
    "\n",
    "load_model = joblib.load(r\"D:\\MACHINE LEARNING\\FINAL PROJECT\\Models\\health\\Diabetes_model.pkl\")\n",
    "\n",
    "\n",
    "#predication\n",
    "\n",
    "#input_Data = [6,148,72,0,33.6,0.627,50]  \n",
    "input_Data = [1,89,66,94,28.1,0.167,21]\n",
    "input_data_to_array = np.asarray(input_Data)\n",
    "\n",
    "input_Data_reshaped = input_data_to_array.reshape(1,-1)\n",
    "\n",
    "std  = Scaler.transform(input_Data_reshaped)\n",
    "\n",
    "predication = load_model.predict(std)\n",
    "\n",
    "print(predication)\n",
    "\n",
    "if predication[0] == 0:\n",
    "    print(\"The person does not have a diabetes\")\n",
    "    \n",
    "else:\n",
    "    print(\"The person hes diabetes \")"
   ]
  },
  {
   "cell_type": "markdown",
   "id": "023b246c",
   "metadata": {},
   "source": [
    "# Working Sucessfully"
   ]
  },
  {
   "cell_type": "code",
   "execution_count": null,
   "id": "32bb022b",
   "metadata": {},
   "outputs": [],
   "source": []
  }
 ],
 "metadata": {
  "kernelspec": {
   "display_name": "Python 3 (ipykernel)",
   "language": "python",
   "name": "python3"
  },
  "language_info": {
   "codemirror_mode": {
    "name": "ipython",
    "version": 3
   },
   "file_extension": ".py",
   "mimetype": "text/x-python",
   "name": "python",
   "nbconvert_exporter": "python",
   "pygments_lexer": "ipython3",
   "version": "3.9.13"
  }
 },
 "nbformat": 4,
 "nbformat_minor": 5
}
