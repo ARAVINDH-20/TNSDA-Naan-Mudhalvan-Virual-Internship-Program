{
 "cells": [
  {
   "cell_type": "code",
   "execution_count": 3,
   "id": "bf5abf85",
   "metadata": {},
   "outputs": [
    {
     "name": "stdout",
     "output_type": "stream",
     "text": [
      "MCMXCIX => 1999\n",
      "DCCC => 800\n",
      "DCLXXIII => 673\n",
      "MMMDCCXXIV => 3724\n",
      "MMMCMXCIX => 3999\n"
     ]
    }
   ],
   "source": [
    "def fun(s):\n",
    "    roman_to_int_dict = {\n",
    "    'I': 1,\n",
    "    'V': 5,\n",
    "    'X': 10,\n",
    "    'L': 50,\n",
    "    'C': 100,\n",
    "    'D': 500,\n",
    "    'M': 1000\n",
    "    }\n",
    "    result = 0\n",
    "    i = 0\n",
    "    while i < len(s):\n",
    "        if i+1 < len(s) and roman_to_int_dict[s[i]] < roman_to_int_dict[s[i+1]]:\n",
    "            result += roman_to_int_dict[s[i+1]] - roman_to_int_dict[s[i]]\n",
    "            i += 2\n",
    "        else:\n",
    "            result += roman_to_int_dict[s[i]]\n",
    "            i += 1\n",
    "    return result\n",
    "\n",
    "test_case=[\"MCMXCIX\",\"DCCC\",\"DCLXXIII\",\"MMMDCCXXIV\",\"MMMCMXCIX\"]\n",
    "\n",
    "for i in test_case:\n",
    "    print(f\"{i} => {fun(i)}\")"
   ]
  },
  {
   "cell_type": "code",
   "execution_count": null,
   "id": "377ba281",
   "metadata": {},
   "outputs": [],
   "source": []
  }
 ],
 "metadata": {
  "kernelspec": {
   "display_name": "Python 3 (ipykernel)",
   "language": "python",
   "name": "python3"
  },
  "language_info": {
   "codemirror_mode": {
    "name": "ipython",
    "version": 3
   },
   "file_extension": ".py",
   "mimetype": "text/x-python",
   "name": "python",
   "nbconvert_exporter": "python",
   "pygments_lexer": "ipython3",
   "version": "3.9.13"
  }
 },
 "nbformat": 4,
 "nbformat_minor": 5
}
