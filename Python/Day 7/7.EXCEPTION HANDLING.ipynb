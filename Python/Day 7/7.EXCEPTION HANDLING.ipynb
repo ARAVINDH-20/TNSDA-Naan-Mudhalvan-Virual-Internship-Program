{
 "cells": [
  {
   "cell_type": "markdown",
   "id": "7a2c0327",
   "metadata": {},
   "source": [
    "# errors handled\n",
    "\n",
    "1.try\n",
    "2.except\n",
    "3.else\n",
    "4.finally"
   ]
  },
  {
   "cell_type": "code",
   "execution_count": 2,
   "id": "1ef9e284",
   "metadata": {},
   "outputs": [
    {
     "name": "stdout",
     "output_type": "stream",
     "text": [
      "error occured\n"
     ]
    }
   ],
   "source": [
    "x,y=0,6\n",
    "\n",
    "try:\n",
    "    print(y/x)\n",
    "except:\n",
    "    print(\"error occured\")"
   ]
  },
  {
   "cell_type": "code",
   "execution_count": 4,
   "id": "93106eae",
   "metadata": {},
   "outputs": [
    {
     "name": "stdout",
     "output_type": "stream",
     "text": [
      "coder\n",
      "nothing\n"
     ]
    }
   ],
   "source": [
    "try:\n",
    "    print(\"coder\")\n",
    "except:\n",
    "    print(\"something wrong\")\n",
    "else:\n",
    "    print(\"nothing\")"
   ]
  },
  {
   "cell_type": "code",
   "execution_count": 5,
   "id": "ee9792d8",
   "metadata": {},
   "outputs": [
    {
     "name": "stdout",
     "output_type": "stream",
     "text": [
      "coder\n",
      "finesd\n"
     ]
    }
   ],
   "source": [
    "try:\n",
    "    print(\"coder\")\n",
    "except:\n",
    "    print(\"something wrong\")\n",
    "finally:\n",
    "    print(\"finesd\")"
   ]
  },
  {
   "cell_type": "markdown",
   "id": "48f0402c",
   "metadata": {},
   "source": [
    "# FILE HANDLING"
   ]
  },
  {
   "cell_type": "code",
   "execution_count": 6,
   "id": "34c49c32",
   "metadata": {},
   "outputs": [],
   "source": [
    "file = open(\"new.txt\",\"x\")  #x = create new file\n",
    "\n",
    "file = open(\"new.txt\",\"w\")  # w = write in file\n",
    "\n",
    "file.write(\"this is new file\")\n",
    "\n",
    "file.close()"
   ]
  },
  {
   "cell_type": "code",
   "execution_count": 7,
   "id": "1fc7103c",
   "metadata": {},
   "outputs": [
    {
     "name": "stdout",
     "output_type": "stream",
     "text": [
      "this is new file\n"
     ]
    }
   ],
   "source": [
    "file = open(\"new.txt\",\"r\")\n",
    "\n",
    "content = file.read()\n",
    "\n",
    "file.close()\n",
    "\n",
    "print(content)"
   ]
  },
  {
   "cell_type": "code",
   "execution_count": 13,
   "id": "9e98efc1",
   "metadata": {},
   "outputs": [
    {
     "name": "stdout",
     "output_type": "stream",
     "text": [
      "th\n",
      "is is new file\n"
     ]
    }
   ],
   "source": [
    "file = open(\"new.txt\",\"r\")\n",
    "\n",
    "content_1 = file.read(2)\n",
    "content_2 = file.readline()\n",
    "\n",
    "file.close()\n",
    "\n",
    "print(content_1)\n",
    "print(content_2)"
   ]
  },
  {
   "cell_type": "code",
   "execution_count": 14,
   "id": "09221ad1",
   "metadata": {},
   "outputs": [],
   "source": [
    "file = open(\"new.txt\",\"a\")\n",
    "\n",
    "file.write(\"This is line by append\")\n",
    "\n",
    "file.close()"
   ]
  },
  {
   "cell_type": "code",
   "execution_count": 15,
   "id": "24209b16",
   "metadata": {},
   "outputs": [],
   "source": [
    "file = open(\"new.txt\",\"w\")\n",
    "\n",
    "file.write(\"This is line by overwrite\")\n",
    "\n",
    "file.close()"
   ]
  },
  {
   "cell_type": "code",
   "execution_count": 16,
   "id": "6fc92ea5",
   "metadata": {},
   "outputs": [],
   "source": [
    "import os \n",
    "os.remove(\"new.txt\")"
   ]
  },
  {
   "cell_type": "code",
   "execution_count": null,
   "id": "dd9a7f69",
   "metadata": {},
   "outputs": [],
   "source": []
  }
 ],
 "metadata": {
  "kernelspec": {
   "display_name": "Python 3 (ipykernel)",
   "language": "python",
   "name": "python3"
  },
  "language_info": {
   "codemirror_mode": {
    "name": "ipython",
    "version": 3
   },
   "file_extension": ".py",
   "mimetype": "text/x-python",
   "name": "python",
   "nbconvert_exporter": "python",
   "pygments_lexer": "ipython3",
   "version": "3.9.13"
  }
 },
 "nbformat": 4,
 "nbformat_minor": 5
}
