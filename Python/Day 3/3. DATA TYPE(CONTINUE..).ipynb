{
 "cells": [
  {
   "cell_type": "code",
   "execution_count": 2,
   "id": "d6b9ef7d",
   "metadata": {},
   "outputs": [
    {
     "name": "stdout",
     "output_type": "stream",
     "text": [
      "Addition: 2+3 = >5\n",
      "Subtraction: 5-3 = >2\n",
      "mutliplication: 2*4 = >8\n",
      "division: 120/3 = >40.0\n",
      "modules: 10%3 = >1\n",
      "expoentation: 2**4 = >16\n",
      "floor Division: 10//3 = >3\n"
     ]
    }
   ],
   "source": [
    "#operations\n",
    "\n",
    "#1.Arithmetic operations\n",
    "\n",
    "print(f\"Addition: 2+3 = >{2+3}\")\n",
    "print(f\"Subtraction: 5-3 = >{5-3}\")\n",
    "print(f\"mutliplication: 2*4 = >{2*4}\")\n",
    "print(f\"division: 120/3 = >{120/3}\")\n",
    "print(f\"modules: 10%3 = >{10%3}\")\n",
    "print(f\"expoentation: 2**4 = >{2**4}\")\n",
    "print(f\"floor Division: 10//3 = >{10//3}\")"
   ]
  },
  {
   "cell_type": "code",
   "execution_count": 3,
   "id": "a0f45ec3",
   "metadata": {},
   "outputs": [
    {
     "name": "stdout",
     "output_type": "stream",
     "text": [
      "equal to: 2==2 = >True\n",
      "not equal to: 2!=2 = >False\n",
      "greater than: 2<4 = >True\n",
      "less than: 120>3 = >False\n",
      "greather than or equal: 10>=3 = >True\n",
      "less than or equal: 2<=4 = >True\n"
     ]
    }
   ],
   "source": [
    "#operations\n",
    "\n",
    "#1.relational operations\n",
    "\n",
    "print(f\"equal to: 2==2 = >{2==2}\")\n",
    "print(f\"not equal to: 2!=2 = >{2!=2}\")\n",
    "print(f\"greater than: 2<4 = >{2<4}\")\n",
    "print(f\"less than: 120>3 = >{120<3}\")\n",
    "print(f\"greather than or equal: 10>=3 = >{10>=3}\")\n",
    "print(f\"less than or equal: 2<=4 = >{2<=4}\")"
   ]
  },
  {
   "cell_type": "code",
   "execution_count": 7,
   "id": "2338a4d5",
   "metadata": {},
   "outputs": [
    {
     "name": "stdout",
     "output_type": "stream",
     "text": [
      "x=x+1 => x += 1\n",
      "x=x-1 => x -= 1\n",
      "x=x*1 => x *= 1\n",
      "x=x/1 => x /= 1\n",
      "x=x%1 => x %= 1\n"
     ]
    }
   ],
   "source": [
    "#operations\n",
    "\n",
    "#1.assignment operations\n",
    "\n",
    "print(\"x=x+1 => x += 1\")\n",
    "print(\"x=x-1 => x -= 1\")\n",
    "print(\"x=x*1 => x *= 1\")\n",
    "print(\"x=x/1 => x /= 1\")\n",
    "print(\"x=x%1 => x %= 1\")"
   ]
  },
  {
   "cell_type": "code",
   "execution_count": 14,
   "id": "7f5b8eb4",
   "metadata": {},
   "outputs": [
    {
     "name": "stdout",
     "output_type": "stream",
     "text": [
      "+-------+-------+----------+-----------+---------+\n",
      "| X     | Y     | X or Y   | X and Y   | NOT X   |\n",
      "+=======+=======+==========+===========+=========+\n",
      "| true  | true  | true     | true      | false   |\n",
      "+-------+-------+----------+-----------+---------+\n",
      "| true  | false | true     | false     | false   |\n",
      "+-------+-------+----------+-----------+---------+\n",
      "| false | true  | true     | false     | true    |\n",
      "+-------+-------+----------+-----------+---------+\n",
      "| false | false | false    | false     | true    |\n",
      "+-------+-------+----------+-----------+---------+\n"
     ]
    }
   ],
   "source": [
    "#operations\n",
    "\n",
    "#1.logical operations\n",
    "\n",
    "#and or not\n",
    "\n",
    "from tabulate import tabulate\n",
    "\n",
    "mydata = [\n",
    "    [\"true\",\"true\",\"true\",\"true\",\"false\"],\n",
    "    [\"true\",\"false\",\"true\",\"false\",\"false\"],\n",
    "    [\"false\",\"true\",\"true\",\"false\",\"true\"],\n",
    "    [\"false\",\"false\",\"false\",\"false\",\"true\"],\n",
    "]\n",
    "\n",
    "head = [\"X\",\"Y\",\"X or Y\",\"X and Y\",\"NOT X\"]\n",
    "\n",
    "print(tabulate(mydata,headers=head,tablefmt=\"grid\"))"
   ]
  },
  {
   "cell_type": "code",
   "execution_count": 16,
   "id": "c8171e9e",
   "metadata": {},
   "outputs": [
    {
     "name": "stdout",
     "output_type": "stream",
     "text": [
      "True\n",
      "False\n"
     ]
    }
   ],
   "source": [
    "#operations\n",
    "\n",
    "#5.Membership operations\n",
    "\n",
    "#in , not in\n",
    "\n",
    "\n",
    "x=[\"a\",\"b\"]\n",
    "ans = \"a\" in x\n",
    "print(\"a\" in x)\n",
    "print(\"b\" not in x)"
   ]
  },
  {
   "cell_type": "markdown",
   "id": "ba05a249",
   "metadata": {},
   "source": [
    "# CONDITIONAL STATEMENTS"
   ]
  },
  {
   "cell_type": "code",
   "execution_count": 18,
   "id": "364c1cc3",
   "metadata": {},
   "outputs": [
    {
     "name": "stdout",
     "output_type": "stream",
     "text": [
      "9 is greater than 3\n"
     ]
    }
   ],
   "source": [
    "#if\n",
    "\n",
    "if 3<9:\n",
    "    print(\"9 is greater than 3\")"
   ]
  },
  {
   "cell_type": "code",
   "execution_count": 19,
   "id": "32d947a2",
   "metadata": {},
   "outputs": [
    {
     "name": "stdout",
     "output_type": "stream",
     "text": [
      "equal\n"
     ]
    }
   ],
   "source": [
    "#elif\n",
    "\n",
    "if 3<3:\n",
    "    print(\"9 is greater than 3\")\n",
    "elif 3==3:\n",
    "    print(\"equal\")"
   ]
  },
  {
   "cell_type": "code",
   "execution_count": 21,
   "id": "cd029b8d",
   "metadata": {},
   "outputs": [
    {
     "name": "stdout",
     "output_type": "stream",
     "text": [
      "get out\n"
     ]
    }
   ],
   "source": [
    "#if else\n",
    "\n",
    "if 3<3:\n",
    "    print(\"9 is greater than 3\")\n",
    "else:\n",
    "    print(\"get out\")"
   ]
  },
  {
   "cell_type": "code",
   "execution_count": 23,
   "id": "b432334b",
   "metadata": {},
   "outputs": [
    {
     "name": "stdout",
     "output_type": "stream",
     "text": [
      "no\n"
     ]
    }
   ],
   "source": [
    "#nested if\n",
    "x=12\n",
    "if x>20:\n",
    "    if x<25:\n",
    "        print(\"yes\")\n",
    "    else:\n",
    "        print(\"no\")\n",
    "else:\n",
    "    print(\"no\")"
   ]
  },
  {
   "cell_type": "code",
   "execution_count": 24,
   "id": "2f2ff04c",
   "metadata": {},
   "outputs": [],
   "source": [
    "#pass statment\n",
    "\n",
    "x=20\n",
    "\n",
    "if x>2:\n",
    "    pass"
   ]
  },
  {
   "cell_type": "code",
   "execution_count": null,
   "id": "fe98ed95",
   "metadata": {},
   "outputs": [],
   "source": []
  }
 ],
 "metadata": {
  "kernelspec": {
   "display_name": "Python 3 (ipykernel)",
   "language": "python",
   "name": "python3"
  },
  "language_info": {
   "codemirror_mode": {
    "name": "ipython",
    "version": 3
   },
   "file_extension": ".py",
   "mimetype": "text/x-python",
   "name": "python",
   "nbconvert_exporter": "python",
   "pygments_lexer": "ipython3",
   "version": "3.9.13"
  }
 },
 "nbformat": 4,
 "nbformat_minor": 5
}
