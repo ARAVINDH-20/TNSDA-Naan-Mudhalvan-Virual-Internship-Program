{
 "cells": [
  {
   "cell_type": "code",
   "execution_count": 2,
   "id": "cdadf6d4",
   "metadata": {},
   "outputs": [
    {
     "name": "stdout",
     "output_type": "stream",
     "text": [
      "Requirement already satisfied: beautifulsoup4 in c:\\users\\welcome\\anaconda3\\lib\\site-packages (4.11.1)\n",
      "Requirement already satisfied: soupsieve>1.2 in c:\\users\\welcome\\anaconda3\\lib\\site-packages (from beautifulsoup4) (2.3.1)\n"
     ]
    }
   ],
   "source": [
    "!pip install beautifulsoup4\n"
   ]
  },
  {
   "cell_type": "code",
   "execution_count": 9,
   "id": "7c9ca2c7",
   "metadata": {},
   "outputs": [
    {
     "data": {
      "text/plain": [
       "33"
      ]
     },
     "execution_count": 9,
     "metadata": {},
     "output_type": "execute_result"
    }
   ],
   "source": [
    "from bs4 import BeautifulSoup\n",
    "\n",
    "#get html of a website\n",
    "import requests\n",
    "import lxml\n",
    "\n",
    "#store into csv file\n",
    "import csv\n",
    "file = open(\"moviesdata.csv\",\"w\")\n",
    "writer = csv.writer(file)\n",
    "writer.writerow([\"Movie Name\",\"Year\",\"Duration\",\"Rating\"])"
   ]
  },
  {
   "cell_type": "code",
   "execution_count": 12,
   "id": "48bd7e68",
   "metadata": {},
   "outputs": [],
   "source": [
    "\n",
    "pages=[0,100,200,300,400,500,600,700,800,900]\n",
    "for page in pages:\n",
    "    url=f\"https://www.imdb.com/search/title/?groups=top_1000&sort=user_rating,desc&count=100&start={page}&ref_=adv_nxt\"\n",
    "    #get html code using requests\n",
    "    html = requests.get(url,\"lxml\").text\n",
    "    \n",
    "    soup = BeautifulSoup(html)\n",
    "    \n",
    "    divide = soup.find_all(\"div\",class_=\"lister-item mode-advanced\")\n",
    "    \n",
    "    for div in divide:\n",
    "        movie = div.h3.a.text\n",
    "        year = div.h3.find(\"span\",class_=\"lister-item-year text-muted unbold\").text.replace(\"(\",\"\").replace(\")\",\"\")\n",
    "        runtime = div.p.find(\"span\",class_=\"runtime\").text\n",
    "        rating = div.find(\"div\",class_=\"inline-block ratings-imdb-rating\").text.strip()\n",
    "        writer.writerow([movie,year,runtime,rating])\n",
    "        \n",
    "file.close()"
   ]
  },
  {
   "cell_type": "code",
   "execution_count": 19,
   "id": "a21db5e5",
   "metadata": {},
   "outputs": [
    {
     "data": {
      "text/html": [
       "<div>\n",
       "<style scoped>\n",
       "    .dataframe tbody tr th:only-of-type {\n",
       "        vertical-align: middle;\n",
       "    }\n",
       "\n",
       "    .dataframe tbody tr th {\n",
       "        vertical-align: top;\n",
       "    }\n",
       "\n",
       "    .dataframe thead th {\n",
       "        text-align: right;\n",
       "    }\n",
       "</style>\n",
       "<table border=\"1\" class=\"dataframe\">\n",
       "  <thead>\n",
       "    <tr style=\"text-align: right;\">\n",
       "      <th></th>\n",
       "      <th>Movie Name</th>\n",
       "      <th>Year</th>\n",
       "      <th>Duration</th>\n",
       "      <th>Rating</th>\n",
       "    </tr>\n",
       "  </thead>\n",
       "  <tbody>\n",
       "    <tr>\n",
       "      <th>0</th>\n",
       "      <td>The Shawshank Redemption</td>\n",
       "      <td>1994</td>\n",
       "      <td>142 min</td>\n",
       "      <td>9.3</td>\n",
       "    </tr>\n",
       "    <tr>\n",
       "      <th>1</th>\n",
       "      <td>The Godfather</td>\n",
       "      <td>1972</td>\n",
       "      <td>175 min</td>\n",
       "      <td>9.2</td>\n",
       "    </tr>\n",
       "    <tr>\n",
       "      <th>2</th>\n",
       "      <td>The Dark Knight</td>\n",
       "      <td>2008</td>\n",
       "      <td>152 min</td>\n",
       "      <td>9.0</td>\n",
       "    </tr>\n",
       "    <tr>\n",
       "      <th>3</th>\n",
       "      <td>Schindler's List</td>\n",
       "      <td>1993</td>\n",
       "      <td>195 min</td>\n",
       "      <td>9.0</td>\n",
       "    </tr>\n",
       "    <tr>\n",
       "      <th>4</th>\n",
       "      <td>The Lord of the Rings: The Return of the King</td>\n",
       "      <td>2003</td>\n",
       "      <td>201 min</td>\n",
       "      <td>9.0</td>\n",
       "    </tr>\n",
       "  </tbody>\n",
       "</table>\n",
       "</div>"
      ],
      "text/plain": [
       "                                      Movie Name  Year Duration  Rating\n",
       "0                       The Shawshank Redemption  1994  142 min     9.3\n",
       "1                                  The Godfather  1972  175 min     9.2\n",
       "2                                The Dark Knight  2008  152 min     9.0\n",
       "3                               Schindler's List  1993  195 min     9.0\n",
       "4  The Lord of the Rings: The Return of the King  2003  201 min     9.0"
      ]
     },
     "execution_count": 19,
     "metadata": {},
     "output_type": "execute_result"
    }
   ],
   "source": [
    "import pandas as pd\n",
    "\n",
    "df=pd.read_csv(\"moviesdata.csv\",encoding=\"latin_1\")\n",
    "df.head()"
   ]
  },
  {
   "cell_type": "code",
   "execution_count": 21,
   "id": "cb8a5d09",
   "metadata": {},
   "outputs": [
    {
     "data": {
      "text/plain": [
       "(1000, 4)"
      ]
     },
     "execution_count": 21,
     "metadata": {},
     "output_type": "execute_result"
    }
   ],
   "source": [
    "df.shape"
   ]
  },
  {
   "cell_type": "code",
   "execution_count": null,
   "id": "bf5a294d",
   "metadata": {},
   "outputs": [],
   "source": []
  }
 ],
 "metadata": {
  "kernelspec": {
   "display_name": "Python 3 (ipykernel)",
   "language": "python",
   "name": "python3"
  },
  "language_info": {
   "codemirror_mode": {
    "name": "ipython",
    "version": 3
   },
   "file_extension": ".py",
   "mimetype": "text/x-python",
   "name": "python",
   "nbconvert_exporter": "python",
   "pygments_lexer": "ipython3",
   "version": "3.9.13"
  }
 },
 "nbformat": 4,
 "nbformat_minor": 5
}
