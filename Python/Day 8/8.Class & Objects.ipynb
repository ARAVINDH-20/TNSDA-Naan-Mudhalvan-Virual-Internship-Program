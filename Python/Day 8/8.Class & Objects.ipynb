{
 "cells": [
  {
   "cell_type": "markdown",
   "id": "011d46c9",
   "metadata": {},
   "source": [
    "# create a class"
   ]
  },
  {
   "cell_type": "code",
   "execution_count": 2,
   "id": "830147b7",
   "metadata": {},
   "outputs": [],
   "source": [
    "class number():\n",
    "    x=5\n"
   ]
  },
  {
   "cell_type": "markdown",
   "id": "30a7b87e",
   "metadata": {},
   "source": [
    "# Create a object"
   ]
  },
  {
   "cell_type": "code",
   "execution_count": 3,
   "id": "3fa85094",
   "metadata": {},
   "outputs": [
    {
     "name": "stdout",
     "output_type": "stream",
     "text": [
      "5\n"
     ]
    }
   ],
   "source": [
    "obj = number()\n",
    "print(obj.x)"
   ]
  },
  {
   "cell_type": "markdown",
   "id": "8ad986ef",
   "metadata": {},
   "source": [
    "# function(method) inside class\n",
    "\n"
   ]
  },
  {
   "cell_type": "code",
   "execution_count": 5,
   "id": "695dcbd6",
   "metadata": {},
   "outputs": [
    {
     "name": "stdout",
     "output_type": "stream",
     "text": [
      "This is objects and class session\n"
     ]
    }
   ],
   "source": [
    "class course():\n",
    "    def session(self):\n",
    "        print(\"This is objects and class session\")\n",
    "        \n",
    "obj=course()\n",
    "obj.session()"
   ]
  },
  {
   "cell_type": "markdown",
   "id": "aa11778e",
   "metadata": {},
   "source": [
    "# Constructors"
   ]
  },
  {
   "cell_type": "code",
   "execution_count": 23,
   "id": "39c1b05c",
   "metadata": {},
   "outputs": [
    {
     "name": "stdout",
     "output_type": "stream",
     "text": [
      "ARAVINDH was 21 old Year Boy!\n"
     ]
    }
   ],
   "source": [
    "class myclass:\n",
    "    def __init__(self,name,age):\n",
    "        self.name = name\n",
    "        self.age = age\n",
    "        \n",
    "    def Name(self):\n",
    "        return (self.name)\n",
    "    \n",
    "    def Age(self):\n",
    "        return (self.age)\n",
    "        \n",
    "obj = myclass(\"ARAVINDH\",21)\n",
    "print(f\"{obj.Name()} was {obj.Age()} old Year Boy!\")"
   ]
  },
  {
   "cell_type": "markdown",
   "id": "ccc9c7db",
   "metadata": {},
   "source": [
    "# TYPE OF VARIABLE\n",
    "      1. Instance\n",
    "      2.  Class"
   ]
  },
  {
   "cell_type": "code",
   "execution_count": 25,
   "id": "fbbc7856",
   "metadata": {},
   "outputs": [
    {
     "name": "stdout",
     "output_type": "stream",
     "text": [
      "55\n",
      "50\n"
     ]
    }
   ],
   "source": [
    "#varailbel or attribute\n",
    "#instance variable\n",
    "\n",
    "class Car():\n",
    "    def __init__(self):\n",
    "        self.mileage = 55   # instance variable \n",
    "        self.company = \"TATA\"\n",
    "        \n",
    "one=Car()\n",
    "\n",
    "print(one.mileage)\n",
    "\n",
    "one.mileage = 50\n",
    "\n",
    "print(one.mileage)"
   ]
  },
  {
   "cell_type": "code",
   "execution_count": 29,
   "id": "4811f78c",
   "metadata": {},
   "outputs": [
    {
     "name": "stdout",
     "output_type": "stream",
     "text": [
      "4\n",
      "8\n"
     ]
    }
   ],
   "source": [
    "#class variable\n",
    "\n",
    "class Car():\n",
    "    wheel=4    #class variable\n",
    "    def __init__(self):\n",
    "        self.mileage = 55   # instance variable \n",
    "        self.company = \"TATA\"\n",
    "        \n",
    "one=Car()\n",
    "\n",
    "print(one.wheel)\n",
    "\n",
    "Car.wheel = 8\n",
    "\n",
    "print(Car.wheel)"
   ]
  },
  {
   "cell_type": "markdown",
   "id": "f7352699",
   "metadata": {},
   "source": [
    "# Types of Method\n",
    "\n",
    "1.instance \n",
    "2.class\n",
    "3.static"
   ]
  },
  {
   "cell_type": "code",
   "execution_count": 1,
   "id": "1ea8b2bc",
   "metadata": {},
   "outputs": [
    {
     "name": "stdout",
     "output_type": "stream",
     "text": [
      "ARAVINDH was 21 old Year Boy!\n"
     ]
    }
   ],
   "source": [
    "#INSTANCE method\n",
    "\n",
    "class myclass:\n",
    "    def __init__(self,name,age):\n",
    "        self.name = name\n",
    "        self.age = age\n",
    "        \n",
    "    def Name(self):\n",
    "        return (self.name)\n",
    "    \n",
    "    def Age(self):\n",
    "        return (self.age)\n",
    "        \n",
    "obj = myclass(\"ARAVINDH\",21)\n",
    "print(f\"{obj.Name()} was {obj.Age()} old Year Boy!\")"
   ]
  },
  {
   "cell_type": "code",
   "execution_count": 19,
   "id": "0eeec6c9",
   "metadata": {},
   "outputs": [
    {
     "name": "stdout",
     "output_type": "stream",
     "text": [
      "<bound method myclass.mark of <class '__main__.myclass'>>\n",
      "static method\n"
     ]
    }
   ],
   "source": [
    "#class method\n",
    "\n",
    "class myclass:\n",
    "    mark=89\n",
    "    \n",
    "    @classmethod\n",
    "    def mark(cls):\n",
    "        print(cls.mark)\n",
    "    \n",
    "    @staticmethod\n",
    "    def remark():\n",
    "        print(\"static method\")\n",
    "        \n",
    "myclass.mark()\n",
    "myclass.remark()"
   ]
  },
  {
   "cell_type": "code",
   "execution_count": 20,
   "id": "51affe5b",
   "metadata": {},
   "outputs": [
    {
     "name": "stdout",
     "output_type": "stream",
     "text": [
      "first\n"
     ]
    }
   ],
   "source": [
    "#inheritance\n",
    "\n",
    "class one:\n",
    "    def first(self):\n",
    "        return \"first\"\n",
    "    def second(self):\n",
    "        return \"second\"\n",
    "    \n",
    "class second(one):\n",
    "    def third(self):\n",
    "        return \"third\"\n",
    "    def foruth(self):\n",
    "        return \"foruth\"\n",
    "    \n",
    "obj = second()\n",
    "\n",
    "print(obj.first())"
   ]
  },
  {
   "cell_type": "code",
   "execution_count": null,
   "id": "2393a7fa",
   "metadata": {},
   "outputs": [],
   "source": []
  }
 ],
 "metadata": {
  "kernelspec": {
   "display_name": "Python 3 (ipykernel)",
   "language": "python",
   "name": "python3"
  },
  "language_info": {
   "codemirror_mode": {
    "name": "ipython",
    "version": 3
   },
   "file_extension": ".py",
   "mimetype": "text/x-python",
   "name": "python",
   "nbconvert_exporter": "python",
   "pygments_lexer": "ipython3",
   "version": "3.9.13"
  }
 },
 "nbformat": 4,
 "nbformat_minor": 5
}
