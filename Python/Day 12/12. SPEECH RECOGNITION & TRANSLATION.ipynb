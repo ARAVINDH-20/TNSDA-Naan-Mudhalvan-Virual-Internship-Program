{
 "cells": [
  {
   "cell_type": "markdown",
   "id": "c5de8002",
   "metadata": {},
   "source": [
    "# Speech to Text"
   ]
  },
  {
   "cell_type": "code",
   "execution_count": 1,
   "id": "2a728fa5",
   "metadata": {},
   "outputs": [
    {
     "name": "stdout",
     "output_type": "stream",
     "text": [
      "Collecting SpeechRecognition\n",
      "  Downloading SpeechRecognition-3.10.0-py2.py3-none-any.whl (32.8 MB)\n",
      "     -------------------------------------- 32.8/32.8 MB 591.4 kB/s eta 0:00:00\n",
      "Requirement already satisfied: requests>=2.26.0 in c:\\users\\welcome\\anaconda3\\lib\\site-packages (from SpeechRecognition) (2.28.1)\n",
      "Requirement already satisfied: urllib3<1.27,>=1.21.1 in c:\\users\\welcome\\anaconda3\\lib\\site-packages (from requests>=2.26.0->SpeechRecognition) (1.26.11)\n",
      "Requirement already satisfied: certifi>=2017.4.17 in c:\\users\\welcome\\anaconda3\\lib\\site-packages (from requests>=2.26.0->SpeechRecognition) (2022.9.14)\n",
      "Requirement already satisfied: charset-normalizer<3,>=2 in c:\\users\\welcome\\anaconda3\\lib\\site-packages (from requests>=2.26.0->SpeechRecognition) (2.0.4)\n",
      "Requirement already satisfied: idna<4,>=2.5 in c:\\users\\welcome\\anaconda3\\lib\\site-packages (from requests>=2.26.0->SpeechRecognition) (3.3)\n",
      "Installing collected packages: SpeechRecognition\n",
      "Successfully installed SpeechRecognition-3.10.0\n",
      "Collecting PyAudioFinish to install\n",
      "\n",
      "  Downloading PyAudio-0.2.13-cp39-cp39-win_amd64.whl (164 kB)\n",
      "     ------------------------------------ 164.1/164.1 kB 164.0 kB/s eta 0:00:00\n",
      "Installing collected packages: PyAudio\n",
      "Successfully installed PyAudio-0.2.13\n"
     ]
    }
   ],
   "source": [
    "!pip install SpeechRecognition      \n",
    "!pip install PyAudio\n",
    "print(\"Finish to install\")"
   ]
  },
  {
   "cell_type": "code",
   "execution_count": 22,
   "id": "eb6cb7d3",
   "metadata": {},
   "outputs": [
    {
     "name": "stdout",
     "output_type": "stream",
     "text": [
      "wait for calibaration\n",
      "Start speaking\n",
      "Recorded Successfully!\n",
      "unknown error occurred\n"
     ]
    }
   ],
   "source": [
    "import speech_recognition as sr\n",
    "\n",
    "recognizer = sr.Recognizer()\n",
    "try:\n",
    "    with sr.Microphone() as source:\n",
    "        print(\"wait for calibaration\")\n",
    "        recognizer.adjust_for_ambient_noise(source,duration=1)\n",
    "        print(\"Start speaking\")\n",
    "\n",
    "        audio = recognizer.listen(source)\n",
    "        print(\"Recorded Successfully!\")\n",
    "\n",
    "        speech = recognizer.recognize_google(audio,language = 'en-IN')\n",
    "        speech = speech.lower()\n",
    "        print(speech)\n",
    "except sr.UnknownValueError:\n",
    "            print(\"unknown error occurred\")\n"
   ]
  },
  {
   "cell_type": "markdown",
   "id": "e3e7f4d3",
   "metadata": {},
   "source": [
    "# Text to Speech"
   ]
  },
  {
   "cell_type": "code",
   "execution_count": 23,
   "id": "1e344924",
   "metadata": {},
   "outputs": [
    {
     "name": "stdout",
     "output_type": "stream",
     "text": [
      "Collecting pyttsx3\n",
      "  Downloading pyttsx3-2.90-py3-none-any.whl (39 kB)\n",
      "Requirement already satisfied: comtypes in c:\\users\\welcome\\anaconda3\\lib\\site-packages (from pyttsx3) (1.1.10)\n",
      "Requirement already satisfied: pywin32 in c:\\users\\welcome\\anaconda3\\lib\\site-packages (from pyttsx3) (302)\n",
      "Collecting pypiwin32\n",
      "  Downloading pypiwin32-223-py3-none-any.whl (1.7 kB)\n",
      "Installing collected packages: pypiwin32, pyttsx3\n",
      "Successfully installed pypiwin32-223 pyttsx3-2.90\n"
     ]
    }
   ],
   "source": [
    "!pip install pyttsx3"
   ]
  },
  {
   "cell_type": "code",
   "execution_count": 24,
   "id": "e34a6cdd",
   "metadata": {},
   "outputs": [],
   "source": [
    "import pyttsx3 as pt\n",
    "\n",
    "engine = pt.init()\n",
    "sentence = \"Hello World\"\n",
    "engine.setProperty(\"rate\",100)\n",
    "engine.say(sentence)\n",
    "engine.runAndWait()"
   ]
  },
  {
   "cell_type": "markdown",
   "id": "8030ed3f",
   "metadata": {},
   "source": [
    "# Translation"
   ]
  },
  {
   "cell_type": "code",
   "execution_count": 25,
   "id": "0c4043a7",
   "metadata": {},
   "outputs": [
    {
     "name": "stdout",
     "output_type": "stream",
     "text": [
      "Collecting googletrans==3.1.0a0\n",
      "  Downloading googletrans-3.1.0a0.tar.gz (19 kB)\n",
      "  Preparing metadata (setup.py): started\n",
      "  Preparing metadata (setup.py): still running...\n",
      "  Preparing metadata (setup.py): finished with status 'done'\n",
      "Collecting httpx==0.13.3\n",
      "  Downloading httpx-0.13.3-py3-none-any.whl (55 kB)\n",
      "     ---------------------------------------- 55.1/55.1 kB 6.8 kB/s eta 0:00:00\n",
      "Collecting chardet==3.*\n",
      "  Downloading chardet-3.0.4-py2.py3-none-any.whl (133 kB)\n",
      "     ------------------------------------- 133.4/133.4 kB 59.2 kB/s eta 0:00:00\n",
      "Collecting rfc3986<2,>=1.3\n",
      "  Downloading rfc3986-1.5.0-py2.py3-none-any.whl (31 kB)\n",
      "Collecting idna==2.*\n",
      "  Downloading idna-2.10-py2.py3-none-any.whl (58 kB)\n",
      "     --------------------------------------- 58.8/58.8 kB 14.3 kB/s eta 0:00:00\n",
      "Requirement already satisfied: sniffio in c:\\users\\welcome\\anaconda3\\lib\\site-packages (from httpx==0.13.3->googletrans==3.1.0a0) (1.2.0)\n",
      "Collecting httpcore==0.9.*\n",
      "  Downloading httpcore-0.9.1-py3-none-any.whl (42 kB)\n",
      "     -------------------------------------- 42.6/42.6 kB 148.6 kB/s eta 0:00:00\n",
      "Requirement already satisfied: certifi in c:\\users\\welcome\\anaconda3\\lib\\site-packages (from httpx==0.13.3->googletrans==3.1.0a0) (2022.9.14)\n",
      "Collecting hstspreload\n",
      "  Downloading hstspreload-2023.1.1-py3-none-any.whl (1.5 MB)\n",
      "     ---------------------------------------- 1.5/1.5 MB 161.5 kB/s eta 0:00:00\n",
      "Collecting h2==3.*\n",
      "  Downloading h2-3.2.0-py2.py3-none-any.whl (65 kB)\n",
      "     -------------------------------------- 65.0/65.0 kB 250.2 kB/s eta 0:00:00\n",
      "Collecting h11<0.10,>=0.8\n",
      "  Downloading h11-0.9.0-py2.py3-none-any.whl (53 kB)\n",
      "     -------------------------------------- 53.6/53.6 kB 231.9 kB/s eta 0:00:00\n",
      "Collecting hyperframe<6,>=5.2.0\n",
      "  Downloading hyperframe-5.2.0-py2.py3-none-any.whl (12 kB)\n",
      "Collecting hpack<4,>=3.0\n",
      "  Downloading hpack-3.0.0-py2.py3-none-any.whl (38 kB)\n",
      "Building wheels for collected packages: googletrans\n",
      "  Building wheel for googletrans (setup.py): started\n",
      "  Building wheel for googletrans (setup.py): still running...\n",
      "  Building wheel for googletrans (setup.py): finished with status 'done'\n",
      "  Created wheel for googletrans: filename=googletrans-3.1.0a0-py3-none-any.whl size=16367 sha256=73a3c6e39c8b301368172d474b7b6235ebcf8998b8226a274e0e3a9be09f5d23\n",
      "  Stored in directory: c:\\users\\welcome\\appdata\\local\\pip\\cache\\wheels\\ae\\e1\\6c\\5137bc3f35aa130deea71575e165cc4f4f0680a88f3d90a636\n",
      "Successfully built googletrans\n",
      "Installing collected packages: rfc3986, hyperframe, hpack, h11, chardet, idna, hstspreload, h2, httpcore, httpx, googletrans\n",
      "  Attempting uninstall: chardet\n",
      "    Found existing installation: chardet 4.0.0\n",
      "    Uninstalling chardet-4.0.0:\n",
      "      Successfully uninstalled chardet-4.0.0\n",
      "  Attempting uninstall: idna\n",
      "    Found existing installation: idna 3.3\n",
      "    Uninstalling idna-3.3:\n",
      "      Successfully uninstalled idna-3.3\n",
      "Successfully installed chardet-3.0.4 googletrans-3.1.0a0 h11-0.9.0 h2-3.2.0 hpack-3.0.0 hstspreload-2023.1.1 httpcore-0.9.1 httpx-0.13.3 hyperframe-5.2.0 idna-2.10 rfc3986-1.5.0\n"
     ]
    },
    {
     "name": "stderr",
     "output_type": "stream",
     "text": [
      "WARNING: Retrying (Retry(total=4, connect=None, read=None, redirect=None, status=None)) after connection broken by 'ReadTimeoutError(\"HTTPSConnectionPool(host='pypi.org', port=443): Read timed out. (read timeout=15)\")': /simple/chardet/\n",
      "WARNING: Retrying (Retry(total=3, connect=None, read=None, redirect=None, status=None)) after connection broken by 'ReadTimeoutError(\"HTTPSConnectionPool(host='pypi.org', port=443): Read timed out. (read timeout=15)\")': /simple/chardet/\n",
      "ERROR: pip's dependency resolver does not currently take into account all the packages that are installed. This behaviour is the source of the following dependency conflicts.\n",
      "spyder 5.2.2 requires pyqt5<5.13, which is not installed.\n",
      "spyder 5.2.2 requires pyqtwebengine<5.13, which is not installed.\n",
      "anaconda-project 0.11.1 requires ruamel-yaml, which is not installed.\n",
      "conda-repo-cli 1.0.20 requires clyent==1.2.1, but you have clyent 1.2.2 which is incompatible.\n",
      "conda-repo-cli 1.0.20 requires nbformat==5.4.0, but you have nbformat 5.5.0 which is incompatible.\n"
     ]
    }
   ],
   "source": [
    "!pip install googletrans==3.1.0a0"
   ]
  },
  {
   "cell_type": "code",
   "execution_count": 26,
   "id": "97fc5ff0",
   "metadata": {},
   "outputs": [
    {
     "name": "stdout",
     "output_type": "stream",
     "text": [
      "{'afrikaans': 'af', 'albanian': 'sq', 'amharic': 'am', 'arabic': 'ar', 'armenian': 'hy', 'azerbaijani': 'az', 'basque': 'eu', 'belarusian': 'be', 'bengali': 'bn', 'bosnian': 'bs', 'bulgarian': 'bg', 'catalan': 'ca', 'cebuano': 'ceb', 'chichewa': 'ny', 'chinese (simplified)': 'zh-cn', 'chinese (traditional)': 'zh-tw', 'corsican': 'co', 'croatian': 'hr', 'czech': 'cs', 'danish': 'da', 'dutch': 'nl', 'english': 'en', 'esperanto': 'eo', 'estonian': 'et', 'filipino': 'tl', 'finnish': 'fi', 'french': 'fr', 'frisian': 'fy', 'galician': 'gl', 'georgian': 'ka', 'german': 'de', 'greek': 'el', 'gujarati': 'gu', 'haitian creole': 'ht', 'hausa': 'ha', 'hawaiian': 'haw', 'hebrew': 'he', 'hindi': 'hi', 'hmong': 'hmn', 'hungarian': 'hu', 'icelandic': 'is', 'igbo': 'ig', 'indonesian': 'id', 'irish': 'ga', 'italian': 'it', 'japanese': 'ja', 'javanese': 'jw', 'kannada': 'kn', 'kazakh': 'kk', 'khmer': 'km', 'korean': 'ko', 'kurdish (kurmanji)': 'ku', 'kyrgyz': 'ky', 'lao': 'lo', 'latin': 'la', 'latvian': 'lv', 'lithuanian': 'lt', 'luxembourgish': 'lb', 'macedonian': 'mk', 'malagasy': 'mg', 'malay': 'ms', 'malayalam': 'ml', 'maltese': 'mt', 'maori': 'mi', 'marathi': 'mr', 'mongolian': 'mn', 'myanmar (burmese)': 'my', 'nepali': 'ne', 'norwegian': 'no', 'odia': 'or', 'pashto': 'ps', 'persian': 'fa', 'polish': 'pl', 'portuguese': 'pt', 'punjabi': 'pa', 'romanian': 'ro', 'russian': 'ru', 'samoan': 'sm', 'scots gaelic': 'gd', 'serbian': 'sr', 'sesotho': 'st', 'shona': 'sn', 'sindhi': 'sd', 'sinhala': 'si', 'slovak': 'sk', 'slovenian': 'sl', 'somali': 'so', 'spanish': 'es', 'sundanese': 'su', 'swahili': 'sw', 'swedish': 'sv', 'tajik': 'tg', 'tamil': 'ta', 'telugu': 'te', 'thai': 'th', 'turkish': 'tr', 'ukrainian': 'uk', 'urdu': 'ur', 'uyghur': 'ug', 'uzbek': 'uz', 'vietnamese': 'vi', 'welsh': 'cy', 'xhosa': 'xh', 'yiddish': 'yi', 'yoruba': 'yo', 'zulu': 'zu'}\n",
      "Type the translation language code:ta\n",
      "Translated(src=en, dest=ta, text=அனைவருக்கும் வணக்கம், pronunciation=Aṉaivarukkum vaṇakkam, extra_data=\"{'translat...\")\n"
     ]
    }
   ],
   "source": [
    "import googletrans as gtr\n",
    "translator = gtr.Translator()\n",
    "\n",
    "text=\"Hello All to Everyone\"\n",
    "\n",
    "print(gtr.LANGCODES)\n",
    "\n",
    "language = input(\"Type the translation language code:\").lower()\n",
    "\n",
    "translation = translator.translate(text=text,dest=language)\n",
    "\n",
    "print(translation)"
   ]
  },
  {
   "cell_type": "markdown",
   "id": "7e79a4f0",
   "metadata": {},
   "source": [
    "# IMAGE TO TEXT"
   ]
  },
  {
   "cell_type": "code",
   "execution_count": 27,
   "id": "f4fb3a44",
   "metadata": {},
   "outputs": [
    {
     "name": "stdout",
     "output_type": "stream",
     "text": [
      "Collecting pytesseract\n",
      "  Downloading pytesseract-0.3.10-py3-none-any.whl (14 kB)\n",
      "Requirement already satisfied: Pillow>=8.0.0 in c:\\users\\welcome\\anaconda3\\lib\\site-packages (from pytesseract) (9.2.0)\n",
      "Requirement already satisfied: packaging>=21.3 in c:\\users\\welcome\\anaconda3\\lib\\site-packages (from pytesseract) (21.3)\n",
      "Requirement already satisfied: pyparsing!=3.0.5,>=2.0.2 in c:\\users\\welcome\\anaconda3\\lib\\site-packages (from packaging>=21.3->pytesseract) (3.0.9)\n",
      "Installing collected packages: pytesseract\n",
      "Successfully installed pytesseract-0.3.10\n"
     ]
    }
   ],
   "source": [
    "!pip install pytesseract"
   ]
  },
  {
   "cell_type": "markdown",
   "id": "ef933964",
   "metadata": {},
   "source": [
    "google it => ub-tesseract mannheim\n",
    "\n",
    "\n",
    "download it => https://digi.bib.uni-mannheim.de/tesseract/tesseract-ocr-w64-setup-5.3.1.20230401.exe\n",
    "\n",
    "copy path => C:\\Program Files\\Tesseract-OCR"
   ]
  },
  {
   "cell_type": "code",
   "execution_count": 28,
   "id": "63b9316f",
   "metadata": {},
   "outputs": [
    {
     "name": "stdout",
     "output_type": "stream",
     "text": [
      "It was the best of\n",
      "times, it was the worst\n",
      "of times, it was the age\n",
      "of wisdom, it was the\n",
      "age of foolishness...\n",
      "\n"
     ]
    }
   ],
   "source": [
    "import pytesseract as pyt\n",
    "\n",
    "pyt.pytesseract.tesseract_cmd = r\"C:\\Program Files\\Tesseract-OCR\\tesseract.exe\"\n",
    "\n",
    "image = r\"C:\\Users\\Welcome\\Downloads\\english.png\"\n",
    "\n",
    "print(pyt.image_to_string(image))"
   ]
  },
  {
   "cell_type": "code",
   "execution_count": 60,
   "id": "629b14c3",
   "metadata": {},
   "outputs": [
    {
     "data": {
      "text/plain": [
       "'Qudms wdonaaaie Qobs:\\nFISOSOSSSUUCL offlus\\n2LAUT@LEcEr octoTLSA\\nFS QEMWCT CEFsonssepio\\nQeornd 2 Garé\\nQosunale wso Ass\\nsuimfloy,\\n'"
      ]
     },
     "execution_count": 60,
     "metadata": {},
     "output_type": "execute_result"
    }
   ],
   "source": [
    "image = r\"C:\\Users\\Welcome\\Downloads\\tamil.jpg\"\n",
    "#language = r\"-l eng+tam --psm 6\"\n",
    "text=pyt.image_to_string(image)\n",
    "text"
   ]
  },
  {
   "cell_type": "code",
   "execution_count": 62,
   "id": "d43edb27",
   "metadata": {},
   "outputs": [
    {
     "name": "stdout",
     "output_type": "stream",
     "text": [
      "Requirement already satisfied: Pillow in c:\\users\\welcome\\anaconda3\\lib\\site-packages (9.2.0)\n"
     ]
    }
   ],
   "source": [
    "!pip install Pillow"
   ]
  },
  {
   "cell_type": "code",
   "execution_count": 65,
   "id": "933f32c3",
   "metadata": {},
   "outputs": [
    {
     "name": "stdout",
     "output_type": "stream",
     "text": [
      "Collecting opencv-python\n",
      "  Downloading opencv_python-4.7.0.72-cp37-abi3-win_amd64.whl (38.2 MB)\n",
      "     -------------------------------------- 38.2/38.2 MB 927.2 kB/s eta 0:00:00\n",
      "Requirement already satisfied: numpy>=1.19.3 in c:\\users\\welcome\\anaconda3\\lib\\site-packages (from opencv-python) (1.21.5)\n",
      "Installing collected packages: opencv-python\n",
      "Successfully installed opencv-python-4.7.0.72\n"
     ]
    }
   ],
   "source": [
    "!pip install opencv-python"
   ]
  },
  {
   "cell_type": "code",
   "execution_count": null,
   "id": "1d5f59e9",
   "metadata": {},
   "outputs": [],
   "source": []
  },
  {
   "cell_type": "code",
   "execution_count": null,
   "id": "32737c97",
   "metadata": {},
   "outputs": [],
   "source": []
  },
  {
   "cell_type": "code",
   "execution_count": null,
   "id": "0ed29ea0",
   "metadata": {},
   "outputs": [],
   "source": []
  },
  {
   "cell_type": "code",
   "execution_count": 83,
   "id": "071b1735",
   "metadata": {},
   "outputs": [
    {
     "name": "stdout",
     "output_type": "stream",
     "text": [
      "\n",
      "           select the input method\n",
      "           1. audio\n",
      "           2. text\n",
      "           3. image\n",
      "     \n",
      "Select: 2\n",
      "Enter a text: hello everyone, thanks for seeing my code\n",
      "\n",
      "      Select a OUPUT option:\n",
      "      1. Translated Text\n",
      "      2. Translated audio\n",
      "      3. Audio\n",
      "      4. text\n",
      "    \n",
      "Select: 2\n",
      "TRANSLATING....\n",
      "{'afrikaans': 'af', 'albanian': 'sq', 'amharic': 'am', 'arabic': 'ar', 'armenian': 'hy', 'azerbaijani': 'az', 'basque': 'eu', 'belarusian': 'be', 'bengali': 'bn', 'bosnian': 'bs', 'bulgarian': 'bg', 'catalan': 'ca', 'cebuano': 'ceb', 'chichewa': 'ny', 'chinese (simplified)': 'zh-cn', 'chinese (traditional)': 'zh-tw', 'corsican': 'co', 'croatian': 'hr', 'czech': 'cs', 'danish': 'da', 'dutch': 'nl', 'english': 'en', 'esperanto': 'eo', 'estonian': 'et', 'filipino': 'tl', 'finnish': 'fi', 'french': 'fr', 'frisian': 'fy', 'galician': 'gl', 'georgian': 'ka', 'german': 'de', 'greek': 'el', 'gujarati': 'gu', 'haitian creole': 'ht', 'hausa': 'ha', 'hawaiian': 'haw', 'hebrew': 'he', 'hindi': 'hi', 'hmong': 'hmn', 'hungarian': 'hu', 'icelandic': 'is', 'igbo': 'ig', 'indonesian': 'id', 'irish': 'ga', 'italian': 'it', 'japanese': 'ja', 'javanese': 'jw', 'kannada': 'kn', 'kazakh': 'kk', 'khmer': 'km', 'korean': 'ko', 'kurdish (kurmanji)': 'ku', 'kyrgyz': 'ky', 'lao': 'lo', 'latin': 'la', 'latvian': 'lv', 'lithuanian': 'lt', 'luxembourgish': 'lb', 'macedonian': 'mk', 'malagasy': 'mg', 'malay': 'ms', 'malayalam': 'ml', 'maltese': 'mt', 'maori': 'mi', 'marathi': 'mr', 'mongolian': 'mn', 'myanmar (burmese)': 'my', 'nepali': 'ne', 'norwegian': 'no', 'odia': 'or', 'pashto': 'ps', 'persian': 'fa', 'polish': 'pl', 'portuguese': 'pt', 'punjabi': 'pa', 'romanian': 'ro', 'russian': 'ru', 'samoan': 'sm', 'scots gaelic': 'gd', 'serbian': 'sr', 'sesotho': 'st', 'shona': 'sn', 'sindhi': 'sd', 'sinhala': 'si', 'slovak': 'sk', 'slovenian': 'sl', 'somali': 'so', 'spanish': 'es', 'sundanese': 'su', 'swahili': 'sw', 'swedish': 'sv', 'tajik': 'tg', 'tamil': 'ta', 'telugu': 'te', 'thai': 'th', 'turkish': 'tr', 'ukrainian': 'uk', 'urdu': 'ur', 'uyghur': 'ug', 'uzbek': 'uz', 'vietnamese': 'vi', 'welsh': 'cy', 'xhosa': 'xh', 'yiddish': 'yi', 'yoruba': 'yo', 'zulu': 'zu'}\n",
      "Type the translation language code:ta\n",
      "அனைவருக்கும் வணக்கம், எனது குறியீட்டைப் பார்த்ததற்கு நன்றி Aṉaivarukkum vaṇakkam, eṉatu kuṟiyīṭṭaip pārttataṟku naṉṟi\n",
      "Translated(src=en, dest=ta, text=அனைவருக்கும் வணக்கம், எனது குறியீட்டைப் பார்த்ததற்கு நன்றி, pronunciation=Aṉaivarukkum vaṇakkam, eṉatu kuṟiyīṭṭaip pārttataṟku naṉṟi, extra_data=\"{'translat...\")\n",
      "\n",
      "\n",
      "           select the input method\n",
      "           1. audio\n",
      "           2. text\n",
      "           3. image\n",
      "     \n",
      "Select: 3\n",
      "Enter Image Path_________C:\\Users\\Welcome\\Downloads\\english.png\n",
      "\n",
      "      Select a OUPUT option:\n",
      "      1. Translated Text\n",
      "      2. Translated audio\n",
      "      3. Audio\n",
      "      4. text\n",
      "    \n",
      "Select: 3\n",
      "\n",
      "           select the input method\n",
      "           1. audio\n",
      "           2. text\n",
      "           3. image\n",
      "     \n",
      "Select: 1\n",
      "wait for calibaration\n",
      "Start speaking\n",
      "Recorded Successfully!\n",
      "unknown error occurred\n",
      "\n",
      "      Select a OUPUT option:\n",
      "      1. Translated Text\n",
      "      2. Translated audio\n",
      "      3. Audio\n",
      "      4. text\n",
      "    \n",
      "Select: 1\n",
      "TRANSLATING....\n",
      "{'afrikaans': 'af', 'albanian': 'sq', 'amharic': 'am', 'arabic': 'ar', 'armenian': 'hy', 'azerbaijani': 'az', 'basque': 'eu', 'belarusian': 'be', 'bengali': 'bn', 'bosnian': 'bs', 'bulgarian': 'bg', 'catalan': 'ca', 'cebuano': 'ceb', 'chichewa': 'ny', 'chinese (simplified)': 'zh-cn', 'chinese (traditional)': 'zh-tw', 'corsican': 'co', 'croatian': 'hr', 'czech': 'cs', 'danish': 'da', 'dutch': 'nl', 'english': 'en', 'esperanto': 'eo', 'estonian': 'et', 'filipino': 'tl', 'finnish': 'fi', 'french': 'fr', 'frisian': 'fy', 'galician': 'gl', 'georgian': 'ka', 'german': 'de', 'greek': 'el', 'gujarati': 'gu', 'haitian creole': 'ht', 'hausa': 'ha', 'hawaiian': 'haw', 'hebrew': 'he', 'hindi': 'hi', 'hmong': 'hmn', 'hungarian': 'hu', 'icelandic': 'is', 'igbo': 'ig', 'indonesian': 'id', 'irish': 'ga', 'italian': 'it', 'japanese': 'ja', 'javanese': 'jw', 'kannada': 'kn', 'kazakh': 'kk', 'khmer': 'km', 'korean': 'ko', 'kurdish (kurmanji)': 'ku', 'kyrgyz': 'ky', 'lao': 'lo', 'latin': 'la', 'latvian': 'lv', 'lithuanian': 'lt', 'luxembourgish': 'lb', 'macedonian': 'mk', 'malagasy': 'mg', 'malay': 'ms', 'malayalam': 'ml', 'maltese': 'mt', 'maori': 'mi', 'marathi': 'mr', 'mongolian': 'mn', 'myanmar (burmese)': 'my', 'nepali': 'ne', 'norwegian': 'no', 'odia': 'or', 'pashto': 'ps', 'persian': 'fa', 'polish': 'pl', 'portuguese': 'pt', 'punjabi': 'pa', 'romanian': 'ro', 'russian': 'ru', 'samoan': 'sm', 'scots gaelic': 'gd', 'serbian': 'sr', 'sesotho': 'st', 'shona': 'sn', 'sindhi': 'sd', 'sinhala': 'si', 'slovak': 'sk', 'slovenian': 'sl', 'somali': 'so', 'spanish': 'es', 'sundanese': 'su', 'swahili': 'sw', 'swedish': 'sv', 'tajik': 'tg', 'tamil': 'ta', 'telugu': 'te', 'thai': 'th', 'turkish': 'tr', 'ukrainian': 'uk', 'urdu': 'ur', 'uyghur': 'ug', 'uzbek': 'uz', 'vietnamese': 'vi', 'welsh': 'cy', 'xhosa': 'xh', 'yiddish': 'yi', 'yoruba': 'yo', 'zulu': 'zu'}\n",
      "Type the translation language code:te\n",
      "అందరికీ హలో Andarikī halō\n",
      "Translated(src=en, dest=te, text=అందరికీ హలో, pronunciation=Andarikī halō, extra_data=\"{'translat...\")\n",
      "\n",
      "           select the input method\n",
      "           1. audio\n",
      "           2. text\n",
      "           3. image\n",
      "     \n",
      "Select: 9\n",
      "You have Choose 1,2,3 only\n",
      "\n",
      "      Select a OUPUT option:\n",
      "      1. Translated Text\n",
      "      2. Translated audio\n",
      "      3. Audio\n",
      "      4. text\n",
      "    \n"
     ]
    },
    {
     "ename": "KeyboardInterrupt",
     "evalue": "Interrupted by user",
     "output_type": "error",
     "traceback": [
      "\u001b[1;31m---------------------------------------------------------------------------\u001b[0m",
      "\u001b[1;31mKeyboardInterrupt\u001b[0m                         Traceback (most recent call last)",
      "\u001b[1;32m~\\AppData\\Local\\Temp\\ipykernel_12412\\1152277445.py\u001b[0m in \u001b[0;36m<module>\u001b[1;34m\u001b[0m\n\u001b[0;32m     77\u001b[0m     \"\"\")\n\u001b[0;32m     78\u001b[0m \u001b[1;33m\u001b[0m\u001b[0m\n\u001b[1;32m---> 79\u001b[1;33m     \u001b[0mselect_output\u001b[0m \u001b[1;33m=\u001b[0m \u001b[0mint\u001b[0m\u001b[1;33m(\u001b[0m\u001b[0minput\u001b[0m\u001b[1;33m(\u001b[0m\u001b[1;34m\"Select: \"\u001b[0m\u001b[1;33m)\u001b[0m\u001b[1;33m)\u001b[0m\u001b[1;33m\u001b[0m\u001b[1;33m\u001b[0m\u001b[0m\n\u001b[0m\u001b[0;32m     80\u001b[0m \u001b[1;33m\u001b[0m\u001b[0m\n\u001b[0;32m     81\u001b[0m     \u001b[1;32mif\u001b[0m \u001b[0mselect_output\u001b[0m\u001b[1;33m==\u001b[0m\u001b[1;36m1\u001b[0m\u001b[1;33m:\u001b[0m\u001b[1;33m\u001b[0m\u001b[1;33m\u001b[0m\u001b[0m\n",
      "\u001b[1;32m~\\anaconda3\\lib\\site-packages\\ipykernel\\kernelbase.py\u001b[0m in \u001b[0;36mraw_input\u001b[1;34m(self, prompt)\u001b[0m\n\u001b[0;32m   1175\u001b[0m                 \u001b[1;34m\"raw_input was called, but this frontend does not support input requests.\"\u001b[0m\u001b[1;33m\u001b[0m\u001b[1;33m\u001b[0m\u001b[0m\n\u001b[0;32m   1176\u001b[0m             )\n\u001b[1;32m-> 1177\u001b[1;33m         return self._input_request(\n\u001b[0m\u001b[0;32m   1178\u001b[0m             \u001b[0mstr\u001b[0m\u001b[1;33m(\u001b[0m\u001b[0mprompt\u001b[0m\u001b[1;33m)\u001b[0m\u001b[1;33m,\u001b[0m\u001b[1;33m\u001b[0m\u001b[1;33m\u001b[0m\u001b[0m\n\u001b[0;32m   1179\u001b[0m             \u001b[0mself\u001b[0m\u001b[1;33m.\u001b[0m\u001b[0m_parent_ident\u001b[0m\u001b[1;33m[\u001b[0m\u001b[1;34m\"shell\"\u001b[0m\u001b[1;33m]\u001b[0m\u001b[1;33m,\u001b[0m\u001b[1;33m\u001b[0m\u001b[1;33m\u001b[0m\u001b[0m\n",
      "\u001b[1;32m~\\anaconda3\\lib\\site-packages\\ipykernel\\kernelbase.py\u001b[0m in \u001b[0;36m_input_request\u001b[1;34m(self, prompt, ident, parent, password)\u001b[0m\n\u001b[0;32m   1217\u001b[0m             \u001b[1;32mexcept\u001b[0m \u001b[0mKeyboardInterrupt\u001b[0m\u001b[1;33m:\u001b[0m\u001b[1;33m\u001b[0m\u001b[1;33m\u001b[0m\u001b[0m\n\u001b[0;32m   1218\u001b[0m                 \u001b[1;31m# re-raise KeyboardInterrupt, to truncate traceback\u001b[0m\u001b[1;33m\u001b[0m\u001b[1;33m\u001b[0m\u001b[0m\n\u001b[1;32m-> 1219\u001b[1;33m                 \u001b[1;32mraise\u001b[0m \u001b[0mKeyboardInterrupt\u001b[0m\u001b[1;33m(\u001b[0m\u001b[1;34m\"Interrupted by user\"\u001b[0m\u001b[1;33m)\u001b[0m \u001b[1;32mfrom\u001b[0m \u001b[1;32mNone\u001b[0m\u001b[1;33m\u001b[0m\u001b[1;33m\u001b[0m\u001b[0m\n\u001b[0m\u001b[0;32m   1220\u001b[0m             \u001b[1;32mexcept\u001b[0m \u001b[0mException\u001b[0m\u001b[1;33m:\u001b[0m\u001b[1;33m\u001b[0m\u001b[1;33m\u001b[0m\u001b[0m\n\u001b[0;32m   1221\u001b[0m                 \u001b[0mself\u001b[0m\u001b[1;33m.\u001b[0m\u001b[0mlog\u001b[0m\u001b[1;33m.\u001b[0m\u001b[0mwarning\u001b[0m\u001b[1;33m(\u001b[0m\u001b[1;34m\"Invalid Message:\"\u001b[0m\u001b[1;33m,\u001b[0m \u001b[0mexc_info\u001b[0m\u001b[1;33m=\u001b[0m\u001b[1;32mTrue\u001b[0m\u001b[1;33m)\u001b[0m\u001b[1;33m\u001b[0m\u001b[1;33m\u001b[0m\u001b[0m\n",
      "\u001b[1;31mKeyboardInterrupt\u001b[0m: Interrupted by user"
     ]
    }
   ],
   "source": [
    "import speech_recognition as sr  #speech to text\n",
    "import pyttsx3 as pt    #text to speech\n",
    "import googletrans as gtr   # translate\n",
    "import pytesseract as pyt  #image to string\n",
    "\n",
    "pyt.pytesseract.tesseract_cmd = r\"C:\\Program Files\\Tesseract-OCR\\tesseract.exe\"\n",
    "\n",
    "recognizer = sr.Recognizer()\n",
    "engine = pt.init()\n",
    "translator = gtr.Translator()\n",
    "\n",
    "\n",
    "def record():\n",
    "    try:\n",
    "        with sr.Microphone() as source:\n",
    "            print(\"wait for calibaration\")\n",
    "            recognizer.adjust_for_ambient_noise(source,duration=1)\n",
    "            print(\"Start speaking\")\n",
    "\n",
    "            audio = recognizer.listen(source)\n",
    "            print(\"Recorded Successfully!\")\n",
    "\n",
    "            speech = recognizer.recognize_google(audio,language = 'en-IN')\n",
    "            text = speech.lower()\n",
    "            return text\n",
    "    except sr.UnknownValueError:\n",
    "        text = \"Hello Hai Everyone\"\n",
    "        print(\"unknown error occurred\")\n",
    "        return text\n",
    "    \n",
    "def translate(text):\n",
    "    print(\"TRANSLATING....\")\n",
    "    print(gtr.LANGCODES)\n",
    "    language = input(\"Type the translation language code:\").lower()\n",
    "    translation = translator.translate(text=text,dest=language)\n",
    "    print(translation.text,translation.pronunciation)\n",
    "    return translation\n",
    "\n",
    "def speak(text):\n",
    "    engine.setProperty(\"rate\",150)\n",
    "    engine.say(text)\n",
    "    engine.runAndWait()\n",
    "\n",
    "def image():\n",
    "    image = input(\"Enter Image Path_________\")\n",
    "    return pyt.image_to_string(image)\n",
    "\n",
    "\n",
    "while(True):\n",
    "    print(\"\"\"\n",
    "           select the input method\n",
    "           1. audio\n",
    "           2. text\n",
    "           3. image\n",
    "     \"\"\")\n",
    "\n",
    "\n",
    "    select_input = int(input(\"Select: \"))\n",
    "\n",
    "    if select_input==1:\n",
    "        text=record()\n",
    "    elif select_input==2:\n",
    "        text = input(\"Enter a text: \")\n",
    "    elif select_input==3:\n",
    "        text = image()\n",
    "    else:\n",
    "        print(\"You have Choose 1,2,3 only\")\n",
    "\n",
    "\n",
    "\n",
    "    print(\"\"\"\n",
    "      Select a OUPUT option:\n",
    "      1. Translated Text\n",
    "      2. Translated audio\n",
    "      3. Audio\n",
    "      4. text\n",
    "    \"\"\")\n",
    "\n",
    "    select_output = int(input(\"Select: \"))\n",
    "\n",
    "    if select_output==1:\n",
    "        print(translate(text))\n",
    "    elif select_output==2:\n",
    "        text = translate(text)\n",
    "        print(f\"{text}\\n\")\n",
    "        text = text.pronunciation\n",
    "        speak(text)\n",
    "    elif select_output==3:\n",
    "        speak(text)\n",
    "    elif select_output==4:\n",
    "        print(\"output: \",text)\n",
    "    else:\n",
    "        print(\"You have Choose 1,2,3,4 only\")"
   ]
  },
  {
   "cell_type": "code",
   "execution_count": null,
   "id": "382e39e1",
   "metadata": {},
   "outputs": [],
   "source": []
  }
 ],
 "metadata": {
  "kernelspec": {
   "display_name": "Python 3 (ipykernel)",
   "language": "python",
   "name": "python3"
  },
  "language_info": {
   "codemirror_mode": {
    "name": "ipython",
    "version": 3
   },
   "file_extension": ".py",
   "mimetype": "text/x-python",
   "name": "python",
   "nbconvert_exporter": "python",
   "pygments_lexer": "ipython3",
   "version": "3.9.13"
  }
 },
 "nbformat": 4,
 "nbformat_minor": 5
}
