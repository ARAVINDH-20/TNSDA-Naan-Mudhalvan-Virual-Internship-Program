{
 "cells": [
  {
   "cell_type": "code",
   "execution_count": 1,
   "id": "9f782a91",
   "metadata": {},
   "outputs": [
    {
     "name": "stdout",
     "output_type": "stream",
     "text": [
      "hello coders\n"
     ]
    }
   ],
   "source": [
    "def hello():\n",
    "    print(\"hello coders\")\n",
    "    \n",
    "hello()"
   ]
  },
  {
   "cell_type": "code",
   "execution_count": 2,
   "id": "fb755a1b",
   "metadata": {},
   "outputs": [
    {
     "name": "stdout",
     "output_type": "stream",
     "text": [
      "hello aravindh\n"
     ]
    }
   ],
   "source": [
    "#arugments\n",
    "\n",
    "def hello(name):\n",
    "    print(\"hello\"+\" \"+name)\n",
    "    \n",
    "hello(\"aravindh\")"
   ]
  },
  {
   "cell_type": "code",
   "execution_count": 3,
   "id": "9340f84b",
   "metadata": {},
   "outputs": [
    {
     "name": "stdout",
     "output_type": "stream",
     "text": [
      "hello aravindh,ram\n"
     ]
    }
   ],
   "source": [
    "#keyword arugemnts\n",
    "\n",
    "def hello(a,b):\n",
    "    print(f\"hello {a},{b}\")\n",
    "    \n",
    "hello(\"aravindh\",\"ram\")"
   ]
  },
  {
   "cell_type": "code",
   "execution_count": 7,
   "id": "18e36ead",
   "metadata": {},
   "outputs": [
    {
     "name": "stdout",
     "output_type": "stream",
     "text": [
      "hello aravindh,raj\n"
     ]
    }
   ],
   "source": [
    "#defalut parameter arugemnts\n",
    "\n",
    "def hello(a,b=\"raj\"):\n",
    "    print(f\"hello {a},{b}\")\n",
    "    \n",
    "hello(\"aravindh\")"
   ]
  },
  {
   "cell_type": "code",
   "execution_count": 9,
   "id": "5916100f",
   "metadata": {},
   "outputs": [
    {
     "name": "stdout",
     "output_type": "stream",
     "text": [
      "15\n"
     ]
    }
   ],
   "source": [
    "#return types\n",
    "\n",
    "def returns(x):\n",
    "    return x+5\n",
    "\n",
    "print(returns(10))"
   ]
  },
  {
   "cell_type": "code",
   "execution_count": 11,
   "id": "77d9be84",
   "metadata": {},
   "outputs": [
    {
     "name": "stdout",
     "output_type": "stream",
     "text": [
      "24\n"
     ]
    }
   ],
   "source": [
    "# *args \n",
    "\n",
    "def multiply(*num):\n",
    "    total=1\n",
    "    for n in num:\n",
    "        total*=n\n",
    "    return total\n",
    "\n",
    "a=multiply(1,2,3,4)\n",
    "print(a)"
   ]
  },
  {
   "cell_type": "code",
   "execution_count": 13,
   "id": "e101c1ec",
   "metadata": {},
   "outputs": [
    {
     "name": "stdout",
     "output_type": "stream",
     "text": [
      "{'name': 'aravindh', 'age': 21}\n"
     ]
    }
   ],
   "source": [
    "# **kwargs\n",
    "\n",
    "def user(**info):\n",
    "    print(info)\n",
    "    \n",
    "user(name=\"aravindh\",age=21)"
   ]
  },
  {
   "cell_type": "code",
   "execution_count": 15,
   "id": "07217384",
   "metadata": {},
   "outputs": [
    {
     "name": "stdout",
     "output_type": "stream",
     "text": [
      "5\n"
     ]
    }
   ],
   "source": [
    "#local and global varibale\n",
    "\n",
    "def number():\n",
    "    global x\n",
    "    x=5\n",
    "    return x\n",
    "print(number())"
   ]
  },
  {
   "cell_type": "code",
   "execution_count": 16,
   "id": "b9b66bec",
   "metadata": {},
   "outputs": [
    {
     "name": "stdout",
     "output_type": "stream",
     "text": [
      "20\n"
     ]
    }
   ],
   "source": [
    "#lambda\n",
    "\n",
    "x= lambda a: a+10\n",
    "\n",
    "print(x(10))"
   ]
  },
  {
   "cell_type": "code",
   "execution_count": null,
   "id": "ea68f0df",
   "metadata": {},
   "outputs": [],
   "source": []
  }
 ],
 "metadata": {
  "kernelspec": {
   "display_name": "Python 3 (ipykernel)",
   "language": "python",
   "name": "python3"
  },
  "language_info": {
   "codemirror_mode": {
    "name": "ipython",
    "version": 3
   },
   "file_extension": ".py",
   "mimetype": "text/x-python",
   "name": "python",
   "nbconvert_exporter": "python",
   "pygments_lexer": "ipython3",
   "version": "3.9.13"
  }
 },
 "nbformat": 4,
 "nbformat_minor": 5
}
