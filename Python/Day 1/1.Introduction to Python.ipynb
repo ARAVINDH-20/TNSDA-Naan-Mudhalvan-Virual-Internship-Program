{
 "cells": [
  {
   "cell_type": "code",
   "execution_count": 1,
   "id": "ff947cb7",
   "metadata": {},
   "outputs": [
    {
     "name": "stdout",
     "output_type": "stream",
     "text": [
      "Hello Coders!!!\n"
     ]
    }
   ],
   "source": [
    "print(\"Hello Coders!!!\")"
   ]
  },
  {
   "cell_type": "code",
   "execution_count": 2,
   "id": "9e584c8b",
   "metadata": {},
   "outputs": [],
   "source": [
    "#commands"
   ]
  },
  {
   "cell_type": "code",
   "execution_count": 4,
   "id": "d8d69f26",
   "metadata": {},
   "outputs": [
    {
     "name": "stdout",
     "output_type": "stream",
     "text": [
      "10\n"
     ]
    }
   ],
   "source": [
    "#variables\n",
    "\n",
    "a= 10  # a is varible , 10 is value\n",
    "print(a)"
   ]
  },
  {
   "cell_type": "code",
   "execution_count": null,
   "id": "b769da06",
   "metadata": {},
   "outputs": [],
   "source": []
  }
 ],
 "metadata": {
  "kernelspec": {
   "display_name": "Python 3 (ipykernel)",
   "language": "python",
   "name": "python3"
  },
  "language_info": {
   "codemirror_mode": {
    "name": "ipython",
    "version": 3
   },
   "file_extension": ".py",
   "mimetype": "text/x-python",
   "name": "python",
   "nbconvert_exporter": "python",
   "pygments_lexer": "ipython3",
   "version": "3.9.13"
  }
 },
 "nbformat": 4,
 "nbformat_minor": 5
}
