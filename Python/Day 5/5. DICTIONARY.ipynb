{
 "cells": [
  {
   "cell_type": "code",
   "execution_count": 20,
   "id": "6daa5c25",
   "metadata": {},
   "outputs": [
    {
     "name": "stdout",
     "output_type": "stream",
     "text": [
      "{'name': 'ARAVINDH', 'age': 21, 'country': 'india'}\n"
     ]
    }
   ],
   "source": [
    "DICT = {\"name\":\"ARAVINDH\",\"age\":21,\"country\":\"india\"}\n",
    "\n",
    "print(DICT)"
   ]
  },
  {
   "cell_type": "code",
   "execution_count": 21,
   "id": "0e819075",
   "metadata": {},
   "outputs": [
    {
     "name": "stdout",
     "output_type": "stream",
     "text": [
      "{'name': 'ARAVINDH', 'age': 21, 'country': 'india'}\n"
     ]
    }
   ],
   "source": [
    "#duplicate values are overwritted\n",
    "DICT = {\"name\":\"ARAVINDH\",\"age\":21,\"country\":\"india\",\"age\":21}\n",
    "print(DICT)"
   ]
  },
  {
   "cell_type": "code",
   "execution_count": 39,
   "id": "0a5c42a4",
   "metadata": {},
   "outputs": [
    {
     "data": {
      "text/plain": [
       "{'name': 'ARAVINDH', 'age': 21, 'country': 'india', 'color': ['red', 'yellow']}"
      ]
     },
     "execution_count": 39,
     "metadata": {},
     "output_type": "execute_result"
    }
   ],
   "source": [
    "#all data type vaild\n",
    "\n",
    "dict={\n",
    "    \"name\":\"ARAVINDH\",\"age\":21,\"country\":\"india\",\n",
    "    \"color\":[\"red\",\"yellow\"]\n",
    "}\n",
    "\n",
    "dict"
   ]
  },
  {
   "cell_type": "code",
   "execution_count": 40,
   "id": "99ea135b",
   "metadata": {},
   "outputs": [
    {
     "data": {
      "text/plain": [
       "['red', 'yellow']"
      ]
     },
     "execution_count": 40,
     "metadata": {},
     "output_type": "execute_result"
    }
   ],
   "source": [
    "#accesing items\n",
    "\n",
    "x=dict[\"color\"]\n",
    "x"
   ]
  },
  {
   "cell_type": "code",
   "execution_count": 41,
   "id": "b2d3198e",
   "metadata": {},
   "outputs": [
    {
     "data": {
      "text/plain": [
       "dict_keys(['name', 'age', 'country', 'color'])"
      ]
     },
     "execution_count": 41,
     "metadata": {},
     "output_type": "execute_result"
    }
   ],
   "source": [
    "#accesing items\n",
    "\n",
    "dict.keys()"
   ]
  },
  {
   "cell_type": "code",
   "execution_count": 42,
   "id": "fadd6a65",
   "metadata": {},
   "outputs": [
    {
     "data": {
      "text/plain": [
       "dict_values(['ARAVINDH', 21, 'india', ['red', 'yellow']])"
      ]
     },
     "execution_count": 42,
     "metadata": {},
     "output_type": "execute_result"
    }
   ],
   "source": [
    "dict.values()"
   ]
  },
  {
   "cell_type": "code",
   "execution_count": 43,
   "id": "d66bfd85",
   "metadata": {},
   "outputs": [
    {
     "data": {
      "text/plain": [
       "dict_items([('name', 'ARAVINDH'), ('age', 21), ('country', 'india'), ('color', ['red', 'yellow'])])"
      ]
     },
     "execution_count": 43,
     "metadata": {},
     "output_type": "execute_result"
    }
   ],
   "source": [
    "dict.items()"
   ]
  },
  {
   "cell_type": "code",
   "execution_count": 44,
   "id": "2e506562",
   "metadata": {},
   "outputs": [
    {
     "data": {
      "text/plain": [
       "{'name': 'ARAVINDH', 'age': 22, 'country': 'india', 'color': ['red', 'yellow']}"
      ]
     },
     "execution_count": 44,
     "metadata": {},
     "output_type": "execute_result"
    }
   ],
   "source": [
    "#change items\n",
    "\n",
    "dict[\"age\"] = 22\n",
    "dict"
   ]
  },
  {
   "cell_type": "code",
   "execution_count": 45,
   "id": "4d9b5ed9",
   "metadata": {},
   "outputs": [
    {
     "data": {
      "text/plain": [
       "{'name': 'ARAVINDH', 'age': 21, 'country': 'india', 'color': ['red', 'yellow']}"
      ]
     },
     "execution_count": 45,
     "metadata": {},
     "output_type": "execute_result"
    }
   ],
   "source": [
    "#update\n",
    "\n",
    "dict.update({\"age\":21})\n",
    "dict"
   ]
  },
  {
   "cell_type": "code",
   "execution_count": 48,
   "id": "64aa381b",
   "metadata": {},
   "outputs": [
    {
     "data": {
      "text/plain": [
       "{}"
      ]
     },
     "execution_count": 48,
     "metadata": {},
     "output_type": "execute_result"
    }
   ],
   "source": [
    "#remove items\n",
    "\n",
    "dict.clear()\n",
    "dict"
   ]
  },
  {
   "cell_type": "code",
   "execution_count": 50,
   "id": "4cea655a",
   "metadata": {},
   "outputs": [
    {
     "data": {
      "text/plain": [
       "{'name': 'ARAVINDH', 'age': 21, 'country': 'india'}"
      ]
     },
     "execution_count": 50,
     "metadata": {},
     "output_type": "execute_result"
    }
   ],
   "source": [
    "#remove items\n",
    "\n",
    "dict={\n",
    "    \"name\":\"ARAVINDH\",\"age\":21,\"country\":\"india\",\n",
    "    \"color\":[\"red\",\"yellow\"]\n",
    "}\n",
    "\n",
    "dict.popitem()\n",
    "dict"
   ]
  },
  {
   "cell_type": "code",
   "execution_count": 56,
   "id": "4fa20237",
   "metadata": {},
   "outputs": [
    {
     "data": {
      "text/plain": [
       "{'age': 21, 'country': 'india', 'color': ['red', 'yellow']}"
      ]
     },
     "execution_count": 56,
     "metadata": {},
     "output_type": "execute_result"
    }
   ],
   "source": [
    "#remove items\n",
    "\n",
    "dict={\n",
    "    \"name\":\"ARAVINDH\",\"age\":21,\"country\":\"india\",\n",
    "    \"color\":[\"red\",\"yellow\"]\n",
    "}\n",
    "\n",
    "del dict[\"name\"]\n",
    "dict"
   ]
  },
  {
   "cell_type": "code",
   "execution_count": 58,
   "id": "a40216af",
   "metadata": {},
   "outputs": [
    {
     "data": {
      "text/plain": [
       "{'name': 'ARAVINDH', 'age': 21, 'country': 'india'}"
      ]
     },
     "execution_count": 58,
     "metadata": {},
     "output_type": "execute_result"
    }
   ],
   "source": [
    "#remove items\n",
    "\n",
    "dict={\n",
    "    \"name\":\"ARAVINDH\",\"age\":21,\"country\":\"india\",\n",
    "    \"color\":[\"red\",\"yellow\"]\n",
    "}\n",
    "\n",
    "dict.pop(\"color\")\n",
    "dict"
   ]
  },
  {
   "cell_type": "code",
   "execution_count": 60,
   "id": "bfe2b57f",
   "metadata": {},
   "outputs": [
    {
     "name": "stdout",
     "output_type": "stream",
     "text": [
      "<class 'dict'>\n"
     ]
    }
   ],
   "source": [
    "#remove items\n",
    "\n",
    "dict={\n",
    "    \"name\":\"ARAVINDH\",\"age\":21,\"country\":\"india\",\n",
    "    \"color\":[\"red\",\"yellow\"]\n",
    "}\n",
    "\n",
    "del dict\n",
    "print(dict)"
   ]
  },
  {
   "cell_type": "code",
   "execution_count": 61,
   "id": "18c4d6db",
   "metadata": {},
   "outputs": [
    {
     "name": "stdout",
     "output_type": "stream",
     "text": [
      "name\n",
      "age\n",
      "country\n",
      "color\n"
     ]
    }
   ],
   "source": [
    "#looping \n",
    "\n",
    "dict={\n",
    "    \"name\":\"ARAVINDH\",\"age\":21,\"country\":\"india\",\n",
    "    \"color\":[\"red\",\"yellow\"]\n",
    "}\n",
    "\n",
    "for i in dict:\n",
    "    print(i)"
   ]
  },
  {
   "cell_type": "code",
   "execution_count": 64,
   "id": "c14d88bd",
   "metadata": {},
   "outputs": [
    {
     "name": "stdout",
     "output_type": "stream",
     "text": [
      "name : ARAVINDH\n",
      "age : 21\n",
      "country : india\n",
      "color : ['red', 'yellow']\n"
     ]
    }
   ],
   "source": [
    "#looping \n",
    "\n",
    "dict={\n",
    "    \"name\":\"ARAVINDH\",\"age\":21,\"country\":\"india\",\n",
    "    \"color\":[\"red\",\"yellow\"]\n",
    "}\n",
    "\n",
    "for i,j in dict.items():\n",
    "    print(f\"{i} : {j}\")"
   ]
  },
  {
   "cell_type": "code",
   "execution_count": 66,
   "id": "0b1e64b4",
   "metadata": {},
   "outputs": [
    {
     "name": "stdout",
     "output_type": "stream",
     "text": [
      "name\n",
      "age\n",
      "country\n",
      "color\n"
     ]
    }
   ],
   "source": [
    "#looping \n",
    "\n",
    "dict={\n",
    "    \"name\":\"ARAVINDH\",\"age\":21,\"country\":\"india\",\n",
    "    \"color\":[\"red\",\"yellow\"]\n",
    "}\n",
    "\n",
    "for i in dict.keys():\n",
    "    print(i)"
   ]
  },
  {
   "cell_type": "code",
   "execution_count": 67,
   "id": "ef7b92ed",
   "metadata": {},
   "outputs": [
    {
     "name": "stdout",
     "output_type": "stream",
     "text": [
      "ARAVINDH\n",
      "21\n",
      "india\n",
      "['red', 'yellow']\n"
     ]
    }
   ],
   "source": [
    "#looping \n",
    "\n",
    "dict={\n",
    "    \"name\":\"ARAVINDH\",\"age\":21,\"country\":\"india\",\n",
    "    \"color\":[\"red\",\"yellow\"]\n",
    "}\n",
    "\n",
    "for i in dict.values():\n",
    "    print(i)"
   ]
  },
  {
   "cell_type": "code",
   "execution_count": 68,
   "id": "fb451ebb",
   "metadata": {},
   "outputs": [
    {
     "name": "stdout",
     "output_type": "stream",
     "text": [
      "ARAVINDH\n",
      "21\n",
      "india\n",
      "['red', 'yellow']\n"
     ]
    }
   ],
   "source": [
    "#looping \n",
    "\n",
    "dict={\n",
    "    \"name\":\"ARAVINDH\",\"age\":21,\"country\":\"india\",\n",
    "    \"color\":[\"red\",\"yellow\"]\n",
    "}\n",
    "\n",
    "for i in dict:\n",
    "    print(dict[i])"
   ]
  },
  {
   "cell_type": "code",
   "execution_count": null,
   "id": "eabef0ce",
   "metadata": {},
   "outputs": [],
   "source": []
  }
 ],
 "metadata": {
  "kernelspec": {
   "display_name": "Python 3 (ipykernel)",
   "language": "python",
   "name": "python3"
  },
  "language_info": {
   "codemirror_mode": {
    "name": "ipython",
    "version": 3
   },
   "file_extension": ".py",
   "mimetype": "text/x-python",
   "name": "python",
   "nbconvert_exporter": "python",
   "pygments_lexer": "ipython3",
   "version": "3.9.13"
  }
 },
 "nbformat": 4,
 "nbformat_minor": 5
}
