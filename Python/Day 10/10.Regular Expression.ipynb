{
 "cells": [
  {
   "cell_type": "code",
   "execution_count": 1,
   "id": "7a28b441",
   "metadata": {},
   "outputs": [],
   "source": [
    "import re"
   ]
  },
  {
   "cell_type": "markdown",
   "id": "f50f1f71",
   "metadata": {},
   "source": [
    "# Numbers,Letters,Hyphens"
   ]
  },
  {
   "cell_type": "code",
   "execution_count": 10,
   "id": "a1816307",
   "metadata": {},
   "outputs": [
    {
     "name": "stdout",
     "output_type": "stream",
     "text": [
      "<re.Match object; span=(0, 16), match='Hello-world-1233'>\n"
     ]
    }
   ],
   "source": [
    "sentence=\"Hello-world-1233\"\n",
    "pattern=\"([A-Za-z0-9\\-]+)\"\n",
    "\n",
    "result = re.search(pattern,sentence)\n",
    "print(result)"
   ]
  },
  {
   "cell_type": "markdown",
   "id": "84a68ae8",
   "metadata": {},
   "source": [
    "# Date"
   ]
  },
  {
   "cell_type": "code",
   "execution_count": 15,
   "id": "1da50473",
   "metadata": {},
   "outputs": [
    {
     "name": "stdout",
     "output_type": "stream",
     "text": [
      "<re.Match object; span=(0, 10), match='11/04/2023'>\n"
     ]
    }
   ],
   "source": [
    "sentence = \"11/04/2023\"\n",
    "pattern =\"(\\d{1,2}\\/\\d{1,2}\\/\\d{4})\"\n",
    "\n",
    "result=re.search(pattern,sentence)\n",
    "print(result)"
   ]
  },
  {
   "cell_type": "markdown",
   "id": "52f03cac",
   "metadata": {},
   "source": [
    "# finding file name with extension"
   ]
  },
  {
   "cell_type": "code",
   "execution_count": 20,
   "id": "d19b057f",
   "metadata": {},
   "outputs": [
    {
     "name": "stdout",
     "output_type": "stream",
     "text": [
      "<re.Match object; span=(0, 5), match='image'>\n"
     ]
    }
   ],
   "source": [
    "sentence = \"image.png\"\n",
    "pattern = \"[^\\s]+(?=\\.(png|jpg|gif))\"\n",
    "\n",
    "result=re.search(pattern,sentence)\n",
    "print(result)"
   ]
  },
  {
   "cell_type": "markdown",
   "id": "3aa09725",
   "metadata": {},
   "source": [
    "# finding hexadecimal color code"
   ]
  },
  {
   "cell_type": "code",
   "execution_count": 26,
   "id": "7486bd30",
   "metadata": {},
   "outputs": [
    {
     "name": "stdout",
     "output_type": "stream",
     "text": [
      "<re.Match object; span=(0, 7), match='#FFA500'>\n"
     ]
    }
   ],
   "source": [
    "sentence = \"#FFA500\"\n",
    "pattern = \"#([A-Fa-f0-9]{6}|[A-Fa-f0-9]{3})\"\n",
    "\n",
    "result=re.search(pattern,sentence)\n",
    "print(result)"
   ]
  },
  {
   "cell_type": "markdown",
   "id": "d40860e3",
   "metadata": {},
   "source": [
    "# Password"
   ]
  },
  {
   "cell_type": "code",
   "execution_count": 31,
   "id": "bb17cc29",
   "metadata": {},
   "outputs": [
    {
     "name": "stdout",
     "output_type": "stream",
     "text": [
      "<re.Match object; span=(0, 13), match='Aravindh@1845'>\n"
     ]
    }
   ],
   "source": [
    "sentence = \"Aravindh@1845\"\n",
    "pattern = r\"\\b(?=\\S{6,})(?=.*[A-Z])(?=.*[a-z])(?=.*\\d)(?=.*\\W)[^\\s]{6,}\\b\"\n",
    "\n",
    "result=re.search(pattern,sentence)\n",
    "print(result)"
   ]
  },
  {
   "cell_type": "markdown",
   "id": "f05f9227",
   "metadata": {},
   "source": [
    "# Email"
   ]
  },
  {
   "cell_type": "code",
   "execution_count": 32,
   "id": "c621e313",
   "metadata": {},
   "outputs": [
    {
     "name": "stdout",
     "output_type": "stream",
     "text": [
      "<re.Match object; span=(0, 22), match='Aravindh1845@gmail.com'>\n"
     ]
    }
   ],
   "source": [
    "sentence = \"Aravindh1845@gmail.com\"\n",
    "pattern = \"[A-Za-z0-9._%+-]*@[A-Za-z0-9.-]+\\.[a-zA-Z]{3,}\"\n",
    "\n",
    "result=re.search(pattern,sentence)\n",
    "print(result)"
   ]
  },
  {
   "cell_type": "markdown",
   "id": "dea05684",
   "metadata": {},
   "source": [
    "# html tages"
   ]
  },
  {
   "cell_type": "code",
   "execution_count": 35,
   "id": "01366b11",
   "metadata": {},
   "outputs": [
    {
     "name": "stdout",
     "output_type": "stream",
     "text": [
      "[('<head>', 'head'), ('<\\\\head>', '\\\\head'), ('<body <div>', 'body <div')]\n"
     ]
    }
   ],
   "source": [
    "sentence = \"<head><\\head><body <div>\"\n",
    "pattern = \"(\\<(/?[^\\>]+)\\>)\"\n",
    "\n",
    "result=re.findall(pattern,sentence)\n",
    "print(result)"
   ]
  },
  {
   "cell_type": "code",
   "execution_count": null,
   "id": "e8625031",
   "metadata": {},
   "outputs": [],
   "source": []
  }
 ],
 "metadata": {
  "kernelspec": {
   "display_name": "Python 3 (ipykernel)",
   "language": "python",
   "name": "python3"
  },
  "language_info": {
   "codemirror_mode": {
    "name": "ipython",
    "version": 3
   },
   "file_extension": ".py",
   "mimetype": "text/x-python",
   "name": "python",
   "nbconvert_exporter": "python",
   "pygments_lexer": "ipython3",
   "version": "3.9.13"
  }
 },
 "nbformat": 4,
 "nbformat_minor": 5
}
