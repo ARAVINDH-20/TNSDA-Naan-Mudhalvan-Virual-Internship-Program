{
 "cells": [
  {
   "cell_type": "code",
   "execution_count": 17,
   "id": "e25dde77",
   "metadata": {},
   "outputs": [
    {
     "name": "stdout",
     "output_type": "stream",
     "text": [
      "Requirement already satisfied: mysql-connector-python in c:\\users\\welcome\\appdata\\local\\programs\\python\\python311\\lib\\site-packages (8.0.32)\n",
      "Requirement already satisfied: protobuf<=3.20.3,>=3.11.0 in c:\\users\\welcome\\appdata\\local\\programs\\python\\python311\\lib\\site-packages (from mysql-connector-python) (3.20.3)\n"
     ]
    }
   ],
   "source": [
    "!pip install mysql-connector-python\n"
   ]
  },
  {
   "cell_type": "code",
   "execution_count": 20,
   "id": "5044aeaa",
   "metadata": {},
   "outputs": [
    {
     "name": "stdout",
     "output_type": "stream",
     "text": [
      "Collecting mysqlclient\n",
      "  Downloading mysqlclient-2.1.1-cp311-cp311-win_amd64.whl (178 kB)\n",
      "     ------------------------------------ 178.4/178.4 kB 298.8 kB/s eta 0:00:00\n",
      "Installing collected packages: mysqlclient\n",
      "Successfully installed mysqlclient-2.1.1\n"
     ]
    }
   ],
   "source": [
    "!pip install mysqlclient"
   ]
  },
  {
   "cell_type": "code",
   "execution_count": 21,
   "id": "4dab8527",
   "metadata": {},
   "outputs": [
    {
     "name": "stdout",
     "output_type": "stream",
     "text": [
      "Collecting pymysql\n",
      "  Downloading PyMySQL-1.0.3-py3-none-any.whl (43 kB)\n",
      "     -------------------------------------- 43.7/43.7 kB 126.4 kB/s eta 0:00:00\n",
      "Installing collected packages: pymysql\n",
      "Successfully installed pymysql-1.0.3\n"
     ]
    }
   ],
   "source": [
    "!pip install pymysql"
   ]
  },
  {
   "cell_type": "code",
   "execution_count": 27,
   "id": "0e4d926b",
   "metadata": {},
   "outputs": [],
   "source": [
    "import mysql.connector as connector"
   ]
  },
  {
   "cell_type": "code",
   "execution_count": 29,
   "id": "34bfbe53",
   "metadata": {},
   "outputs": [
    {
     "name": "stdout",
     "output_type": "stream",
     "text": [
      "connection established <mysql.connector.connection_cext.CMySQLConnection object at 0x0000024E3D3483D0>\n"
     ]
    }
   ],
   "source": [
    "#create connection\n",
    "db = connector.connect(host=\"localhost\",user=\"root\",password=\"1234\")\n",
    "print(\"connection established\",db)"
   ]
  },
  {
   "cell_type": "code",
   "execution_count": 31,
   "id": "d6d7d5e4",
   "metadata": {},
   "outputs": [
    {
     "name": "stdout",
     "output_type": "stream",
     "text": [
      "Database Created\n"
     ]
    }
   ],
   "source": [
    "#create cursor\n",
    "\n",
    "cursor = db.cursor()\n",
    "cursor.execute(\"create database marklist\")\n",
    "print(\"Database Created\")"
   ]
  },
  {
   "cell_type": "code",
   "execution_count": 32,
   "id": "4e07f4d0",
   "metadata": {},
   "outputs": [
    {
     "name": "stdout",
     "output_type": "stream",
     "text": [
      "('information_schema',)\n",
      "('marklist',)\n",
      "('mysql',)\n",
      "('performance_schema',)\n",
      "('sakila',)\n",
      "('sys',)\n",
      "('world',)\n"
     ]
    }
   ],
   "source": [
    "#view available database\n",
    "\n",
    "cursor.execute(\"show databases\")\n",
    "for i in cursor:\n",
    "    print(i)"
   ]
  },
  {
   "cell_type": "code",
   "execution_count": 33,
   "id": "6eb94c61",
   "metadata": {},
   "outputs": [
    {
     "name": "stdout",
     "output_type": "stream",
     "text": [
      "success\n"
     ]
    }
   ],
   "source": [
    "#use databasee\n",
    "\n",
    "cursor.execute(\"use marklist\")\n",
    "print(\"success\")"
   ]
  },
  {
   "cell_type": "code",
   "execution_count": 35,
   "id": "f49d3a70",
   "metadata": {},
   "outputs": [],
   "source": [
    "#create table\n",
    "\n",
    "cursor.execute(\"create table maths (name varchar(255), marks int)\")"
   ]
  },
  {
   "cell_type": "code",
   "execution_count": 37,
   "id": "b2daf61f",
   "metadata": {},
   "outputs": [],
   "source": [
    "#insert record\n",
    "\n",
    "sql=\"insert into maths (name,marks) values(%s, %s)\"\n",
    "\n",
    "val=(\"aravindh\",21)\n",
    "\n",
    "cursor.execute(sql,val)\n",
    "\n",
    "db.commit()"
   ]
  },
  {
   "cell_type": "code",
   "execution_count": 40,
   "id": "a5cdb831",
   "metadata": {},
   "outputs": [],
   "source": [
    "#insert multiple record\n",
    "\n",
    "sql=\"insert into maths (name,marks) values(%s, %s)\"\n",
    "\n",
    "val=[(\"aravindh\",21),(\"ram\",21),(\"sethu\",21),(\"deepak\",21),(\"kumar\",21)]\n",
    "\n",
    "cursor.executemany(sql,val)\n",
    "\n",
    "db.commit()"
   ]
  },
  {
   "cell_type": "code",
   "execution_count": 43,
   "id": "9e188d96",
   "metadata": {},
   "outputs": [
    {
     "name": "stdout",
     "output_type": "stream",
     "text": [
      "('aravindh', 21)\n",
      "('aravindh', 21)\n",
      "('ram', 21)\n",
      "('sethu', 21)\n",
      "('deepak', 21)\n",
      "('kumar', 21)\n"
     ]
    }
   ],
   "source": [
    "#display\n",
    "\n",
    "cursor.execute(\"select * from maths\")\n",
    "\n",
    "result = cursor.fetchall()\n",
    "\n",
    "for i in result:\n",
    "    print(i)"
   ]
  },
  {
   "cell_type": "code",
   "execution_count": 45,
   "id": "8fa4288f",
   "metadata": {},
   "outputs": [
    {
     "name": "stdout",
     "output_type": "stream",
     "text": [
      "('aravindh', 21)\n",
      "('aravindh', 21)\n"
     ]
    }
   ],
   "source": [
    " #use filter\n",
    "\n",
    "cursor.execute(\"select * from maths where name='aravindh' \")\n",
    "result = cursor.fetchall()\n",
    "\n",
    "for i in result:\n",
    "    print(i)\n",
    "    \n"
   ]
  },
  {
   "cell_type": "code",
   "execution_count": 46,
   "id": "40a0d3d9",
   "metadata": {},
   "outputs": [],
   "source": [
    "#update\n",
    "\n",
    "cursor.execute(\"update maths set marks = 90\")\n",
    "db.commit()"
   ]
  },
  {
   "cell_type": "code",
   "execution_count": 48,
   "id": "4b120be7",
   "metadata": {},
   "outputs": [],
   "source": [
    "#update\n",
    "\n",
    "cursor.execute(\"update maths set marks = 100 where name='sethu'\")\n",
    "db.commit()"
   ]
  },
  {
   "cell_type": "code",
   "execution_count": 50,
   "id": "64b4bbaf",
   "metadata": {},
   "outputs": [],
   "source": [
    "#delete\n",
    "\n",
    "cursor.execute(\"delete from maths where name='aravindh'\")\n",
    "db.commit()"
   ]
  },
  {
   "cell_type": "code",
   "execution_count": 51,
   "id": "f9bc9ab9",
   "metadata": {},
   "outputs": [],
   "source": [
    "#delete table\n",
    "\n",
    "cursor.execute(\"drop table maths\")"
   ]
  },
  {
   "cell_type": "code",
   "execution_count": null,
   "id": "a4625aef",
   "metadata": {},
   "outputs": [],
   "source": []
  }
 ],
 "metadata": {
  "kernelspec": {
   "display_name": "Python 3 (ipykernel)",
   "language": "python",
   "name": "python3"
  },
  "language_info": {
   "codemirror_mode": {
    "name": "ipython",
    "version": 3
   },
   "file_extension": ".py",
   "mimetype": "text/x-python",
   "name": "python",
   "nbconvert_exporter": "python",
   "pygments_lexer": "ipython3",
   "version": "3.9.13"
  }
 },
 "nbformat": 4,
 "nbformat_minor": 5
}
