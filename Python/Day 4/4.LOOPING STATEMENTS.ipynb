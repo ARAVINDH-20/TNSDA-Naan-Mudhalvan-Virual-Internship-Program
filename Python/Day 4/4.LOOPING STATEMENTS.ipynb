{
 "cells": [
  {
   "cell_type": "markdown",
   "id": "e7a1c179",
   "metadata": {},
   "source": [
    "# FOR LOOP"
   ]
  },
  {
   "cell_type": "code",
   "execution_count": 1,
   "id": "456a8423",
   "metadata": {},
   "outputs": [
    {
     "name": "stdout",
     "output_type": "stream",
     "text": [
      "apples\n",
      "orange\n",
      "banana\n"
     ]
    }
   ],
   "source": [
    "fruits = [\"apples\",\"orange\",\"banana\"]\n",
    "\n",
    "for i in fruits:\n",
    "    print(i)"
   ]
  },
  {
   "cell_type": "code",
   "execution_count": 2,
   "id": "2c2158d5",
   "metadata": {},
   "outputs": [
    {
     "name": "stdout",
     "output_type": "stream",
     "text": [
      "1 2 3 4 "
     ]
    }
   ],
   "source": [
    "list= [1,2,3,4,5,6,7,8]\n",
    "\n",
    "for i in list:\n",
    "    if i==5:\n",
    "        break\n",
    "    else:\n",
    "        print(i,end=\" \")"
   ]
  },
  {
   "cell_type": "code",
   "execution_count": 3,
   "id": "82e3bbdd",
   "metadata": {},
   "outputs": [
    {
     "name": "stdout",
     "output_type": "stream",
     "text": [
      "1 2 3 4 6 7 8 "
     ]
    }
   ],
   "source": [
    "list= [1,2,3,4,5,6,7,8]\n",
    "\n",
    "for i in list:\n",
    "    if i==5:\n",
    "        continue\n",
    "    else:\n",
    "        print(i,end=\" \")"
   ]
  },
  {
   "cell_type": "code",
   "execution_count": 4,
   "id": "b1920924",
   "metadata": {},
   "outputs": [
    {
     "name": "stdout",
     "output_type": "stream",
     "text": [
      "1 2 3 4 6 7 8 "
     ]
    }
   ],
   "source": [
    "list= [1,2,3,4,5,6,7,8]\n",
    "\n",
    "for i in list:\n",
    "    if i==5:\n",
    "        pass\n",
    "    else:\n",
    "        print(i,end=\" \")"
   ]
  },
  {
   "cell_type": "code",
   "execution_count": 5,
   "id": "fa22a36c",
   "metadata": {},
   "outputs": [
    {
     "name": "stdout",
     "output_type": "stream",
     "text": [
      "0 1 2 3 4 5 6 7 8 9 "
     ]
    }
   ],
   "source": [
    "#range\n",
    "\n",
    "for i in range(10):\n",
    "    print(i,end=\" \")"
   ]
  },
  {
   "cell_type": "code",
   "execution_count": 6,
   "id": "35ae8751",
   "metadata": {},
   "outputs": [
    {
     "name": "stdout",
     "output_type": "stream",
     "text": [
      "0 100 110 120 130 140 150 160 170 180 191 101 111 121 131 141 151 161 171 181 192 102 112 122 132 142 152 162 172 182 193 103 113 123 133 143 153 163 173 183 194 104 114 124 134 144 154 164 174 184 195 105 115 125 135 145 155 165 175 185 196 106 116 126 136 146 156 166 176 186 197 107 117 127 137 147 157 167 177 187 198 108 118 128 138 148 158 168 178 188 199 109 119 129 139 149 159 169 179 189 19"
     ]
    }
   ],
   "source": [
    "#nested loop\n",
    "\n",
    "for i in range(10):\n",
    "    for j in range(10,20):\n",
    "        print(i,j,end=\"\")"
   ]
  },
  {
   "cell_type": "markdown",
   "id": "4478073b",
   "metadata": {},
   "source": [
    "# excrcise"
   ]
  },
  {
   "cell_type": "code",
   "execution_count": 16,
   "id": "c3c1e526",
   "metadata": {},
   "outputs": [
    {
     "name": "stdout",
     "output_type": "stream",
     "text": [
      "1\n",
      "12\n",
      "123\n",
      "1234\n",
      "12345\n"
     ]
    }
   ],
   "source": [
    "for i in range(1,6):\n",
    "    for j in range(1,i+1):\n",
    "        print(j,end=\"\")\n",
    "    print()"
   ]
  },
  {
   "cell_type": "code",
   "execution_count": 27,
   "id": "fb399a7a",
   "metadata": {},
   "outputs": [
    {
     "name": "stdout",
     "output_type": "stream",
     "text": [
      "\n",
      "p\n",
      "py\n",
      "pyt\n",
      "pyth\n",
      "pytho\n",
      "python\n",
      "pytho\n",
      "pyth\n",
      "pyt\n",
      "py\n",
      "p\n"
     ]
    }
   ],
   "source": [
    "str=\"python\"\n",
    "for i in range(len(str)):\n",
    "    for j in range(0,i):\n",
    "        print(str[j],end=\"\")\n",
    "    print()\n",
    "    \n",
    "for i in range(len(str),0,-1):\n",
    "    for j in range(0,i):\n",
    "        print(str[j],end=\"\")\n",
    "    print()"
   ]
  },
  {
   "cell_type": "markdown",
   "id": "a8222c7f",
   "metadata": {},
   "source": [
    "# WHILE LOOP"
   ]
  },
  {
   "cell_type": "code",
   "execution_count": 3,
   "id": "094163c5",
   "metadata": {},
   "outputs": [
    {
     "name": "stdout",
     "output_type": "stream",
     "text": [
      "1 2 3 4 5 6 7 8 9 "
     ]
    }
   ],
   "source": [
    "x=1\n",
    "while x<10:\n",
    "    print(x,end=\" \")\n",
    "    x += 1"
   ]
  },
  {
   "cell_type": "code",
   "execution_count": 5,
   "id": "0faf1490",
   "metadata": {},
   "outputs": [
    {
     "name": "stdout",
     "output_type": "stream",
     "text": [
      "1 2 3 4 5 "
     ]
    }
   ],
   "source": [
    "x=0\n",
    "while x<10:\n",
    "    x += 1\n",
    "    print(x,end=\" \")\n",
    "    if x==5:\n",
    "        break"
   ]
  },
  {
   "cell_type": "code",
   "execution_count": 9,
   "id": "8a473400",
   "metadata": {},
   "outputs": [
    {
     "name": "stdout",
     "output_type": "stream",
     "text": [
      "1 2 3 4 5 6 7 8 9 10 "
     ]
    }
   ],
   "source": [
    "x=0\n",
    "while x<10:\n",
    "    x += 1\n",
    "    if x==5:\n",
    "        pass\n",
    "    print(x,end=\" \")\n"
   ]
  },
  {
   "cell_type": "code",
   "execution_count": 8,
   "id": "5c3f8868",
   "metadata": {},
   "outputs": [
    {
     "name": "stdout",
     "output_type": "stream",
     "text": [
      "1 2 3 4 6 7 8 9 10 "
     ]
    }
   ],
   "source": [
    "x=0\n",
    "while x<10:\n",
    "    x += 1\n",
    "    if x==5:\n",
    "        continue\n",
    "    print(x,end=\" \")\n"
   ]
  },
  {
   "cell_type": "markdown",
   "id": "3b0e3463",
   "metadata": {},
   "source": [
    "# excrcise"
   ]
  },
  {
   "cell_type": "code",
   "execution_count": 16,
   "id": "851923c8",
   "metadata": {},
   "outputs": [
    {
     "name": "stdout",
     "output_type": "stream",
     "text": [
      "Enter the Secert Number: 10\n",
      "Wrong Guess, no of chances left: 2\n",
      "Enter the Secert Number: 5\n",
      "Wrong Guess, no of chances left: 1\n",
      "Enter the Secert Number: 1\n",
      "You lose\n"
     ]
    }
   ],
   "source": [
    "#finding secert number\n",
    "import random\n",
    "secert = random.randint(1,11)\n",
    "chance = 3\n",
    "while chance>0:\n",
    "    chance -=1\n",
    "    if secert == int(input(\"Enter the Secert Number: \")):\n",
    "        print(\"You won\")\n",
    "        break\n",
    "    if chance==0:\n",
    "        print(\"You lose\")\n",
    "    else:\n",
    "        print(f\"Wrong Guess, no of chances left: {chance}\")"
   ]
  },
  {
   "cell_type": "code",
   "execution_count": null,
   "id": "101cf7cc",
   "metadata": {},
   "outputs": [],
   "source": []
  }
 ],
 "metadata": {
  "kernelspec": {
   "display_name": "Python 3 (ipykernel)",
   "language": "python",
   "name": "python3"
  },
  "language_info": {
   "codemirror_mode": {
    "name": "ipython",
    "version": 3
   },
   "file_extension": ".py",
   "mimetype": "text/x-python",
   "name": "python",
   "nbconvert_exporter": "python",
   "pygments_lexer": "ipython3",
   "version": "3.9.13"
  }
 },
 "nbformat": 4,
 "nbformat_minor": 5
}
